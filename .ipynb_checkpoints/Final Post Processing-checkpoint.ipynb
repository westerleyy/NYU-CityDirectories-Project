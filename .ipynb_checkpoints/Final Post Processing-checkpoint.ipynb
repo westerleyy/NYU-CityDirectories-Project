{
 "cells": [
  {
   "cell_type": "code",
   "execution_count": 5,
   "metadata": {},
   "outputs": [],
   "source": [
    "#importing modules \n",
    "import json \n",
    "import pandas as pd\n",
    "import numpy as np\n",
    "import csv\n",
    "from fuzzywuzzy import fuzz, process\n",
    "import re\n",
    "from timeit import default_timer as timer\n",
    "import random\n",
    "import matplotlib.pyplot as plt\n",
    "\n",
    "# test file path\n",
    "path = \"./test_directory_files/\"\n",
    "tsv = \"tsv/\"\n",
    "locations = \"4b119360-317a-0134-9131-00505686a51c_locations.tsv\"\n",
    "occupations = \"4b119360-317a-0134-9131-00505686a51c_occupations.tsv\"\n",
    "subjects = \"4b119360-317a-0134-9131-00505686a51c_subjects.tsv\"\n",
    "test_json = \"119.56837603.5abc93e0-6e04-0134-173e-00505686a51c_labeled.json\"\n",
    "street_names_txt = \"./city-directory-entry-parser-master/streetnames.txt\"\n",
    "\n",
    "# set seed\n",
    "random.seed(160220)"
   ]
  },
  {
   "cell_type": "code",
   "execution_count": 278,
   "metadata": {},
   "outputs": [],
   "source": [
    "# Open tsvs and streetnames\n",
    "## From Nick: Columns are the directory uuid, page uuid, entry uuid, the number (in 0,1,2,3 index order) of the entry \n",
    "##            (remember that there could be more than one subject per entry, more than one occupation, etc.).Most are \n",
    "##            entry 0, but sometimes you might find an entry 1 if there are multiple subjects/occupations/locations. \n",
    "##            Then an offset number, e.g. the order of the token from the start of the entry. So a 0th token, 1st token,\n",
    "##            2nd token, etc. And finally the token itself in the last column.\n",
    "##            Remember that we have to keep that entry and offset number linked to each token otherwise we won't be able \n",
    "##            to swap any corrections back into the JSON file once we have a listed of recommended edits.\n",
    "\n",
    "locations_tsv = pd.read_csv(path + tsv + locations, \n",
    "                           sep = \"\\t\",\n",
    "                           quoting = csv.QUOTE_NONE)\n",
    "occupations_tsv = pd.read_csv(path + tsv + occupations, \n",
    "                           sep = \"\\t\",\n",
    "                           quoting = csv.QUOTE_NONE)\n",
    "subjects_tsv = pd.read_csv(path + tsv + subjects, \n",
    "                           sep = \"\\t\",\n",
    "                           quoting = csv.QUOTE_NONE)\n",
    "master_street_names = pd.read_csv(street_names_txt, \n",
    "                                  header = None)\n",
    "master_street_names = master_street_names[0].tolist()\n",
    "#master_street_names"
   ]
  },
  {
   "cell_type": "code",
   "execution_count": 151,
   "metadata": {},
   "outputs": [
    {
     "name": "stdout",
     "output_type": "stream",
     "text": [
      "164451\n"
     ]
    }
   ],
   "source": [
    "print(locations_tsv.entry_uuid.nunique())\n",
    "#locations_tsv.head(n = 20)"
   ]
  },
  {
   "cell_type": "code",
   "execution_count": 152,
   "metadata": {},
   "outputs": [],
   "source": [
    "# function remove punctuation and default to lowercase\n",
    "def clean_token(token):\n",
    "    token_lower = token.lower()\n",
    "    token_clean = ''.join(t for t in token_lower if t.isalnum())\n",
    "    return token_clean\n",
    "\n",
    "# apply to column and create new column\n",
    "locations_tsv[\"token_re\"] = locations_tsv[\"token\"].apply(clean_token)\n",
    "\n",
    "# drop rows with just whitespace\n",
    "locations_tsv = locations_tsv.drop(locations_tsv[(locations_tsv.token_re == '')].index)\n",
    "\n",
    "# create trial pd\n",
    "locations_tsv_trunc = locations_tsv.sample(n = 100)\n",
    "#locations_tsv_trunc.head(n=50)"
   ]
  },
  {
   "cell_type": "code",
   "execution_count": 153,
   "metadata": {},
   "outputs": [],
   "source": [
    "#start = timer()\n",
    "\n",
    "# Create lists for similar and dissimilar tokens\n",
    "tesseract_s = []\n",
    "pct_similarity_s = []\n",
    "best_guess_s = []\n",
    "tesseract_d = []\n",
    "pct_similarity_d = []\n",
    "best_guess_d = []\n",
    "def fuzzy_match(x, choices=master_street_names, scorer=fuzz.token_sort_ratio, \n",
    "                tesseract_s = tesseract_s, pct_similarity_s = pct_similarity_s, best_guess_s = best_guess_s,\n",
    "                tesseract_d = tesseract_d, pct_similarity_d = pct_similarity_d, best_guess_d = best_guess_d):\n",
    "    n = 0\n",
    "    # check if numeric:\n",
    "    digit_check = x.isdigit()\n",
    "    if digit_check is True:\n",
    "        return x\n",
    "    else:\n",
    "        best_guess, pct_similarity = process.extractOne(x, choices=choices, scorer=scorer)\n",
    "        if pct_similarity >= 90:\n",
    "            tesseract_s.append(x)\n",
    "            pct_similarity_s.append(pct_similarity)\n",
    "            best_guess_s.append(best_guess)\n",
    "            return best_guess\n",
    "        else:\n",
    "            tesseract_d.append(x)\n",
    "            pct_similarity_d.append(pct_similarity)\n",
    "            best_guess_d.append(best_guess)\n",
    "            return None\n",
    "            \n",
    "        #print(best_guess)\n",
    "        #print(pct_similarity)\n",
    "\n",
    "# create a second truncated df to trial\n",
    "locations_tsv_trunc_2 = locations_tsv_trunc\n",
    "    \n",
    "# Following post explains why token_sort_ratio might be best \n",
    "## https://medium.com/analytics-vidhya/matching-messy-pandas-columns-with-fuzzywuzzy-4adda6c7994f\n",
    "## tldr: converts each word to a token, then sorts aphabetically. \n",
    "## Streetnames that are abbrievated and in full both start with the same letter so this avoids errors like bway -> w  \n",
    "locations_tsv[\"token_replaced\"] = locations_tsv[\"token_re\"].apply(\n",
    "    fuzzy_match\n",
    "#    ,args=(\n",
    "#        master_street_names,\n",
    "#        fuzz.token_sort_ratio\n",
    "#    )\n",
    ")\n",
    " \n",
    "#end = timer()\n",
    "#print(end - start)"
   ]
  },
  {
   "cell_type": "code",
   "execution_count": 163,
   "metadata": {},
   "outputs": [],
   "source": [
    "# Put the lists from replacement fn above into a df\n",
    "## Dissimilarity\n",
    "dissimilar_frequency_df = pd.DataFrame({\"Tesseract\": tesseract_d,\n",
    "                    \"Guess\": best_guess_d,\n",
    "                    \"Similarity\": pct_similarity_d}) \n",
    "## Similarity\n",
    "similar_frequency_df = pd.DataFrame({\"Tesseract\": tesseract_s,\n",
    "                    \"Guess\": best_guess_s,\n",
    "                    \"Similarity\": pct_similarity_s}) "
   ]
  },
  {
   "cell_type": "markdown",
   "metadata": {},
   "source": [
    "**Objectives:**  \n",
    "1) Find common Tesseract tokens  \n",
    "2) Assign level of confidence  \n",
    "3) Swap out those with high level of confidence  "
   ]
  },
  {
   "cell_type": "code",
   "execution_count": 172,
   "metadata": {},
   "outputs": [
    {
     "data": {
      "text/html": [
       "<div>\n",
       "<style scoped>\n",
       "    .dataframe tbody tr th:only-of-type {\n",
       "        vertical-align: middle;\n",
       "    }\n",
       "\n",
       "    .dataframe tbody tr th {\n",
       "        vertical-align: top;\n",
       "    }\n",
       "\n",
       "    .dataframe thead th {\n",
       "        text-align: right;\n",
       "    }\n",
       "</style>\n",
       "<table border=\"1\" class=\"dataframe\">\n",
       "  <thead>\n",
       "    <tr style=\"text-align: right;\">\n",
       "      <th></th>\n",
       "      <th>Tesseract</th>\n",
       "      <th>Guess</th>\n",
       "      <th>Similarity</th>\n",
       "    </tr>\n",
       "  </thead>\n",
       "  <tbody>\n",
       "    <tr>\n",
       "      <th>0</th>\n",
       "      <td>elm</td>\n",
       "      <td>Elm</td>\n",
       "      <td>100</td>\n",
       "    </tr>\n",
       "    <tr>\n",
       "      <th>1</th>\n",
       "      <td>madison</td>\n",
       "      <td>Madison</td>\n",
       "      <td>100</td>\n",
       "    </tr>\n",
       "    <tr>\n",
       "      <th>2</th>\n",
       "      <td>seventh</td>\n",
       "      <td>Seventh</td>\n",
       "      <td>100</td>\n",
       "    </tr>\n",
       "    <tr>\n",
       "      <th>3</th>\n",
       "      <td>av</td>\n",
       "      <td>Av</td>\n",
       "      <td>100</td>\n",
       "    </tr>\n",
       "    <tr>\n",
       "      <th>4</th>\n",
       "      <td>first</td>\n",
       "      <td>First</td>\n",
       "      <td>100</td>\n",
       "    </tr>\n",
       "    <tr>\n",
       "      <th>...</th>\n",
       "      <td>...</td>\n",
       "      <td>...</td>\n",
       "      <td>...</td>\n",
       "    </tr>\n",
       "    <tr>\n",
       "      <th>238086</th>\n",
       "      <td>mott</td>\n",
       "      <td>Mott</td>\n",
       "      <td>100</td>\n",
       "    </tr>\n",
       "    <tr>\n",
       "      <th>238087</th>\n",
       "      <td>third</td>\n",
       "      <td>Third</td>\n",
       "      <td>100</td>\n",
       "    </tr>\n",
       "    <tr>\n",
       "      <th>238088</th>\n",
       "      <td>av</td>\n",
       "      <td>Av</td>\n",
       "      <td>100</td>\n",
       "    </tr>\n",
       "    <tr>\n",
       "      <th>238089</th>\n",
       "      <td>w</td>\n",
       "      <td>W</td>\n",
       "      <td>100</td>\n",
       "    </tr>\n",
       "    <tr>\n",
       "      <th>238090</th>\n",
       "      <td>19th</td>\n",
       "      <td>19th</td>\n",
       "      <td>100</td>\n",
       "    </tr>\n",
       "  </tbody>\n",
       "</table>\n",
       "<p>238091 rows × 3 columns</p>\n",
       "</div>"
      ],
      "text/plain": [
       "       Tesseract    Guess  Similarity\n",
       "0            elm      Elm         100\n",
       "1        madison  Madison         100\n",
       "2        seventh  Seventh         100\n",
       "3             av       Av         100\n",
       "4          first    First         100\n",
       "...          ...      ...         ...\n",
       "238086      mott     Mott         100\n",
       "238087     third    Third         100\n",
       "238088        av       Av         100\n",
       "238089         w        W         100\n",
       "238090      19th     19th         100\n",
       "\n",
       "[238091 rows x 3 columns]"
      ]
     },
     "execution_count": 172,
     "metadata": {},
     "output_type": "execute_result"
    }
   ],
   "source": [
    "similar_frequency_df"
   ]
  },
  {
   "cell_type": "markdown",
   "metadata": {},
   "source": [
    "The histogram suggests that for most replacement tokens, there is little variance in the tokens they replace. When performing swaps at a very high confidence level as measured by the degree of similarity, it is mostly a 1:1 swap. The case where a swap replaces multiple Tesseract tokens does not occur too frequently and rapidly drops off.  \n",
    "There are 804 unique Tesseract tokens in this directory. 600 of them show up less than or equal to 150 times. Some, such as \"w\" and \"av\" show up more than 20,000 times.\n",
    "The mean number of unique Tesseract tokens each replacement accounts for is **2.16**. For example, \"Ave\" might be the replacement for \"av\" and \"ave\" only, even we know that \"av\" alone shows up more than 20,000 times.  \n",
    "This implies that Tesseract is consistent in its recognition of text."
   ]
  },
  {
   "cell_type": "code",
   "execution_count": 185,
   "metadata": {},
   "outputs": [
    {
     "data": {
      "text/plain": [
       "Text(0, 0.5, 'Count')"
      ]
     },
     "execution_count": 185,
     "metadata": {},
     "output_type": "execute_result"
    },
    {
     "data": {
      "image/png": "[encoded data removed]",
      "text/plain": [
       "<Figure size 432x288 with 1 Axes>"
      ]
     },
     "metadata": {
      "needs_background": "light"
     },
     "output_type": "display_data"
    }
   ],
   "source": [
    "similar_frequency_df2 = similar_frequency_df.groupby(\"Guess\", as_index = True).Tesseract.nunique()\n",
    "# similar_frequency_df2\n",
    "#similar_frequency_df2.mean()\n",
    "plt.hist(similar_frequency_df2)\n",
    "plt.xlabel(\"Number of unique Tesseract tokens per replacement\")\n",
    "plt.ylabel(\"Count\")"
   ]
  },
  {
   "cell_type": "code",
   "execution_count": 200,
   "metadata": {},
   "outputs": [
    {
     "data": {
      "image/png": "[encoded data removed]",
      "text/plain": [
       "<Figure size 432x288 with 1 Axes>"
      ]
     },
     "metadata": {
      "needs_background": "light"
     },
     "output_type": "display_data"
    }
   ],
   "source": [
    "tesseract_frequency = similar_frequency_df.Tesseract.value_counts()\n",
    "plt.hist(tesseract_frequency, 200)\n",
    "#plt.show suppresses the annoying array printout\n",
    "plt.show()"
   ]
  },
  {
   "cell_type": "markdown",
   "metadata": {},
   "source": [
    "The scatter plot below plots number of unique Teseract tokens for each replacement token against the mean of the degree to which they are similar. The histogram above suggests that there are many 1:1 unique replacements. However, the degrees of similarities are very much clustered and show little variance as compared to the other replacement tokens. Suprisingly, the mean degree of similarity are rather *uniformly high*. "
   ]
  },
  {
   "cell_type": "code",
   "execution_count": 182,
   "metadata": {},
   "outputs": [
    {
     "data": {
      "text/plain": [
       "Text(0, 0.5, 'Degree similarity (%)')"
      ]
     },
     "execution_count": 182,
     "metadata": {},
     "output_type": "execute_result"
    },
    {
     "data": {
      "image/png": "[encoded data removed]",
      "text/plain": [
       "<Figure size 432x288 with 1 Axes>"
      ]
     },
     "metadata": {
      "needs_background": "light"
     },
     "output_type": "display_data"
    }
   ],
   "source": [
    "## agg fn allows insertion of functions or list of functions which are then returned as multindex cols\n",
    "similar_frequency_df3 = similar_frequency_df.groupby(\"Guess\", as_index = False).agg({\n",
    "    \"Tesseract\": \"nunique\",\n",
    "    \"Similarity\": \"mean\"\n",
    "})\n",
    "plt.scatter(similar_frequency_df3.Tesseract, similar_frequency_df3.Similarity)\n",
    "plt.xlabel(\"Number of unique Tesseract tokens\")\n",
    "plt.ylabel(\"Degree similarity (%)\")"
   ]
  },
  {
   "cell_type": "code",
   "execution_count": 179,
   "metadata": {
    "collapsed": true
   },
   "outputs": [
    {
     "data": {
      "text/html": [
       "<div>\n",
       "<style scoped>\n",
       "    .dataframe tbody tr th:only-of-type {\n",
       "        vertical-align: middle;\n",
       "    }\n",
       "\n",
       "    .dataframe tbody tr th {\n",
       "        vertical-align: top;\n",
       "    }\n",
       "\n",
       "    .dataframe thead th {\n",
       "        text-align: right;\n",
       "    }\n",
       "</style>\n",
       "<table border=\"1\" class=\"dataframe\">\n",
       "  <thead>\n",
       "    <tr style=\"text-align: right;\">\n",
       "      <th></th>\n",
       "      <th>Guess</th>\n",
       "      <th>Tesseract</th>\n",
       "      <th>Similarity</th>\n",
       "    </tr>\n",
       "  </thead>\n",
       "  <tbody>\n",
       "    <tr>\n",
       "      <th>0</th>\n",
       "      <td>10th</td>\n",
       "      <td>1</td>\n",
       "      <td>100.00</td>\n",
       "    </tr>\n",
       "    <tr>\n",
       "      <th>1</th>\n",
       "      <td>11th</td>\n",
       "      <td>1</td>\n",
       "      <td>100.00</td>\n",
       "    </tr>\n",
       "    <tr>\n",
       "      <th>2</th>\n",
       "      <td>12th</td>\n",
       "      <td>1</td>\n",
       "      <td>100.00</td>\n",
       "    </tr>\n",
       "    <tr>\n",
       "      <th>3</th>\n",
       "      <td>13th</td>\n",
       "      <td>1</td>\n",
       "      <td>100.00</td>\n",
       "    </tr>\n",
       "    <tr>\n",
       "      <th>4</th>\n",
       "      <td>14th</td>\n",
       "      <td>1</td>\n",
       "      <td>100.00</td>\n",
       "    </tr>\n",
       "    <tr>\n",
       "      <th>...</th>\n",
       "      <td>...</td>\n",
       "      <td>...</td>\n",
       "      <td>...</td>\n",
       "    </tr>\n",
       "    <tr>\n",
       "      <th>367</th>\n",
       "      <td>roof</td>\n",
       "      <td>1</td>\n",
       "      <td>100.00</td>\n",
       "    </tr>\n",
       "    <tr>\n",
       "      <th>368</th>\n",
       "      <td>store</td>\n",
       "      <td>1</td>\n",
       "      <td>91.00</td>\n",
       "    </tr>\n",
       "    <tr>\n",
       "      <th>369</th>\n",
       "      <td>the</td>\n",
       "      <td>1</td>\n",
       "      <td>100.00</td>\n",
       "    </tr>\n",
       "    <tr>\n",
       "      <th>370</th>\n",
       "      <td>under</td>\n",
       "      <td>3</td>\n",
       "      <td>93.25</td>\n",
       "    </tr>\n",
       "    <tr>\n",
       "      <th>371</th>\n",
       "      <td>with</td>\n",
       "      <td>1</td>\n",
       "      <td>100.00</td>\n",
       "    </tr>\n",
       "  </tbody>\n",
       "</table>\n",
       "<p>372 rows × 3 columns</p>\n",
       "</div>"
      ],
      "text/plain": [
       "     Guess  Tesseract  Similarity\n",
       "0     10th          1      100.00\n",
       "1     11th          1      100.00\n",
       "2     12th          1      100.00\n",
       "3     13th          1      100.00\n",
       "4     14th          1      100.00\n",
       "..     ...        ...         ...\n",
       "367   roof          1      100.00\n",
       "368  store          1       91.00\n",
       "369    the          1      100.00\n",
       "370  under          3       93.25\n",
       "371   with          1      100.00\n",
       "\n",
       "[372 rows x 3 columns]"
      ]
     },
     "execution_count": 179,
     "metadata": {},
     "output_type": "execute_result"
    }
   ],
   "source": [
    "similar_frequency_df3"
   ]
  },
  {
   "cell_type": "code",
   "execution_count": 155,
   "metadata": {
    "collapsed": true
   },
   "outputs": [
    {
     "data": {
      "text/html": [
       "<div>\n",
       "<style scoped>\n",
       "    .dataframe tbody tr th:only-of-type {\n",
       "        vertical-align: middle;\n",
       "    }\n",
       "\n",
       "    .dataframe tbody tr th {\n",
       "        vertical-align: top;\n",
       "    }\n",
       "\n",
       "    .dataframe thead th {\n",
       "        text-align: right;\n",
       "    }\n",
       "</style>\n",
       "<table border=\"1\" class=\"dataframe\">\n",
       "  <thead>\n",
       "    <tr style=\"text-align: right;\">\n",
       "      <th></th>\n",
       "      <th>Guess</th>\n",
       "      <th>Similarity</th>\n",
       "    </tr>\n",
       "    <tr>\n",
       "      <th>Tesseract</th>\n",
       "      <th></th>\n",
       "      <th></th>\n",
       "    </tr>\n",
       "  </thead>\n",
       "  <tbody>\n",
       "    <tr>\n",
       "      <th>10th</th>\n",
       "      <td>439</td>\n",
       "      <td>439</td>\n",
       "    </tr>\n",
       "    <tr>\n",
       "      <th>11th</th>\n",
       "      <td>1534</td>\n",
       "      <td>1534</td>\n",
       "    </tr>\n",
       "    <tr>\n",
       "      <th>12birmingham</th>\n",
       "      <td>1</td>\n",
       "      <td>1</td>\n",
       "    </tr>\n",
       "    <tr>\n",
       "      <th>12th</th>\n",
       "      <td>1698</td>\n",
       "      <td>1698</td>\n",
       "    </tr>\n",
       "    <tr>\n",
       "      <th>13th</th>\n",
       "      <td>1150</td>\n",
       "      <td>1150</td>\n",
       "    </tr>\n",
       "    <tr>\n",
       "      <th>...</th>\n",
       "      <td>...</td>\n",
       "      <td>...</td>\n",
       "    </tr>\n",
       "    <tr>\n",
       "      <th>wunder</th>\n",
       "      <td>2</td>\n",
       "      <td>2</td>\n",
       "    </tr>\n",
       "    <tr>\n",
       "      <th>xchange</th>\n",
       "      <td>8</td>\n",
       "      <td>8</td>\n",
       "    </tr>\n",
       "    <tr>\n",
       "      <th>york</th>\n",
       "      <td>82</td>\n",
       "      <td>82</td>\n",
       "    </tr>\n",
       "    <tr>\n",
       "      <th>yvarick</th>\n",
       "      <td>1</td>\n",
       "      <td>1</td>\n",
       "    </tr>\n",
       "    <tr>\n",
       "      <th>és</th>\n",
       "      <td>2</td>\n",
       "      <td>2</td>\n",
       "    </tr>\n",
       "  </tbody>\n",
       "</table>\n",
       "<p>804 rows × 2 columns</p>\n",
       "</div>"
      ],
      "text/plain": [
       "              Guess  Similarity\n",
       "Tesseract                      \n",
       "10th            439         439\n",
       "11th           1534        1534\n",
       "12birmingham      1           1\n",
       "12th           1698        1698\n",
       "13th           1150        1150\n",
       "...             ...         ...\n",
       "wunder            2           2\n",
       "xchange           8           8\n",
       "york             82          82\n",
       "yvarick           1           1\n",
       "és                2           2\n",
       "\n",
       "[804 rows x 2 columns]"
      ]
     },
     "execution_count": 155,
     "metadata": {},
     "output_type": "execute_result"
    }
   ],
   "source": [
    "similar_frequency_df.groupby(\"Tesseract\").count()"
   ]
  },
  {
   "cell_type": "markdown",
   "metadata": {},
   "source": [
    "As compared to the highly similar tokens and their replacements, the number of unique Tesseract tokens for each replacement token has increased dramatically. But at the same time, most Tesseract tokens occur at very low frequencies. That is to say, Tesseract's recognition and rendition of these tokens is inconsistent. This interpretation of the data implies that the master list against which this is compared is exhaustive and correct; as a result, if Tesseract is consistent, there should be less unique tokens, but they should occur more frequently.  \n",
    "On the other hand, it might just be the case that the master list is *non-exhaustive* and does not capture the full variance of street names in NYC at the turn of the 20th century. In this case, the questions becomes, \"How can Tesseract's output be verified?\" "
   ]
  },
  {
   "cell_type": "code",
   "execution_count": 203,
   "metadata": {
    "scrolled": true
   },
   "outputs": [
    {
     "data": {
      "text/plain": [
       "Text(0, 0.5, 'Count')"
      ]
     },
     "execution_count": 203,
     "metadata": {},
     "output_type": "execute_result"
    },
    {
     "data": {
      "image/png": "[encoded data removed]",
      "text/plain": [
       "<Figure size 432x288 with 1 Axes>"
      ]
     },
     "metadata": {
      "needs_background": "light"
     },
     "output_type": "display_data"
    }
   ],
   "source": [
    "dissimilar_frequency_df2 = dissimilar_frequency_df.groupby(\"Guess\", as_index = True).Tesseract.nunique()\n",
    "#dissimilar_frequency_df2\n",
    "#dissimilar_frequency_df2.mean()\n",
    "plt.hist(dissimilar_frequency_df2)\n",
    "plt.xlabel(\"Number of unique Tesseract tokens per replacement\")\n",
    "plt.ylabel(\"Count\")"
   ]
  },
  {
   "cell_type": "code",
   "execution_count": 205,
   "metadata": {},
   "outputs": [
    {
     "data": {
      "image/png": "[encoded data removed]",
      "text/plain": [
       "<Figure size 432x288 with 1 Axes>"
      ]
     },
     "metadata": {
      "needs_background": "light"
     },
     "output_type": "display_data"
    }
   ],
   "source": [
    "tesseract_frequency_dissimilar = dissimilar_frequency_df.Tesseract.value_counts()\n",
    "plt.hist(tesseract_frequency_dissimilar, 100)\n",
    "#plt.show suppresses the annoying array printout\n",
    "plt.show()"
   ]
  },
  {
   "cell_type": "code",
   "execution_count": 206,
   "metadata": {},
   "outputs": [
    {
     "data": {
      "text/plain": [
       "Text(0, 0.5, 'Degree similarity (%)')"
      ]
     },
     "execution_count": 206,
     "metadata": {},
     "output_type": "execute_result"
    },
    {
     "data": {
      "image/png": "[encoded data removed]",
      "text/plain": [
       "<Figure size 432x288 with 1 Axes>"
      ]
     },
     "metadata": {
      "needs_background": "light"
     },
     "output_type": "display_data"
    }
   ],
   "source": [
    "## agg fn allows insertion of functions or list of functions which are then returned as multindex cols\n",
    "dissimilar_frequency_df3 = dissimilar_frequency_df.groupby(\"Guess\", as_index = False).agg({\n",
    "    \"Tesseract\": \"nunique\",\n",
    "    \"Similarity\": \"mean\"\n",
    "})\n",
    "plt.scatter(dissimilar_frequency_df3.Tesseract, dissimilar_frequency_df3.Similarity)\n",
    "plt.xlabel(\"Number of unique Tesseract tokens\")\n",
    "plt.ylabel(\"Degree similarity (%)\")"
   ]
  },
  {
   "cell_type": "code",
   "execution_count": 156,
   "metadata": {},
   "outputs": [
    {
     "data": {
      "text/html": [
       "<div>\n",
       "<style scoped>\n",
       "    .dataframe tbody tr th:only-of-type {\n",
       "        vertical-align: middle;\n",
       "    }\n",
       "\n",
       "    .dataframe tbody tr th {\n",
       "        vertical-align: top;\n",
       "    }\n",
       "\n",
       "    .dataframe thead th {\n",
       "        text-align: right;\n",
       "    }\n",
       "</style>\n",
       "<table border=\"1\" class=\"dataframe\">\n",
       "  <thead>\n",
       "    <tr style=\"text-align: right;\">\n",
       "      <th></th>\n",
       "      <th>Guess</th>\n",
       "      <th>Similarity</th>\n",
       "    </tr>\n",
       "    <tr>\n",
       "      <th>Tesseract</th>\n",
       "      <th></th>\n",
       "      <th></th>\n",
       "    </tr>\n",
       "  </thead>\n",
       "  <tbody>\n",
       "    <tr>\n",
       "      <th>02d</th>\n",
       "      <td>1</td>\n",
       "      <td>1</td>\n",
       "    </tr>\n",
       "    <tr>\n",
       "      <th>04th</th>\n",
       "      <td>1</td>\n",
       "      <td>1</td>\n",
       "    </tr>\n",
       "    <tr>\n",
       "      <th>0o</th>\n",
       "      <td>1</td>\n",
       "      <td>1</td>\n",
       "    </tr>\n",
       "    <tr>\n",
       "      <th>0s</th>\n",
       "      <td>2</td>\n",
       "      <td>2</td>\n",
       "    </tr>\n",
       "    <tr>\n",
       "      <th>0th</th>\n",
       "      <td>5</td>\n",
       "      <td>5</td>\n",
       "    </tr>\n",
       "    <tr>\n",
       "      <th>...</th>\n",
       "      <td>...</td>\n",
       "      <td>...</td>\n",
       "    </tr>\n",
       "    <tr>\n",
       "      <th>zwi</th>\n",
       "      <td>1</td>\n",
       "      <td>1</td>\n",
       "    </tr>\n",
       "    <tr>\n",
       "      <th>zz</th>\n",
       "      <td>1</td>\n",
       "      <td>1</td>\n",
       "    </tr>\n",
       "    <tr>\n",
       "      <th>zéth</th>\n",
       "      <td>1</td>\n",
       "      <td>1</td>\n",
       "    </tr>\n",
       "    <tr>\n",
       "      <th>é</th>\n",
       "      <td>56</td>\n",
       "      <td>56</td>\n",
       "    </tr>\n",
       "    <tr>\n",
       "      <th>épres7</th>\n",
       "      <td>1</td>\n",
       "      <td>1</td>\n",
       "    </tr>\n",
       "  </tbody>\n",
       "</table>\n",
       "<p>9578 rows × 2 columns</p>\n",
       "</div>"
      ],
      "text/plain": [
       "           Guess  Similarity\n",
       "Tesseract                   \n",
       "02d            1           1\n",
       "04th           1           1\n",
       "0o             1           1\n",
       "0s             2           2\n",
       "0th            5           5\n",
       "...          ...         ...\n",
       "zwi            1           1\n",
       "zz             1           1\n",
       "zéth           1           1\n",
       "é             56          56\n",
       "épres7         1           1\n",
       "\n",
       "[9578 rows x 2 columns]"
      ]
     },
     "execution_count": 156,
     "metadata": {},
     "output_type": "execute_result"
    }
   ],
   "source": [
    "dissimilar_frequency_df.groupby(\"Tesseract\").count()"
   ]
  },
  {
   "cell_type": "code",
   "execution_count": 157,
   "metadata": {},
   "outputs": [
    {
     "data": {
      "text/plain": [
       "Tesseract\n",
       "16th         2\n",
       "17th         2\n",
       "24th         1\n",
       "26th         1\n",
       "32d          1\n",
       "40th         2\n",
       "41st         1\n",
       "42d          1\n",
       "a            1\n",
       "av           6\n",
       "ay           1\n",
       "baxter       1\n",
       "beach        1\n",
       "beekman      1\n",
       "bible        1\n",
       "bway         4\n",
       "catharine    1\n",
       "centre       1\n",
       "chariton     1\n",
       "division     1\n",
       "e            2\n",
       "fi           1\n",
       "fifth        1\n",
       "front        2\n",
       "georges      1\n",
       "h19          1\n",
       "highth       1\n",
       "ichi         1\n",
       "j            2\n",
       "ja           1\n",
       "james        1\n",
       "john         2\n",
       "mulberry     1\n",
       "n            1\n",
       "ninth        1\n",
       "oe           1\n",
       "orchard      2\n",
       "second       2\n",
       "stopher      1\n",
       "suffolk      1\n",
       "thomas       1\n",
       "w            6\n",
       "walker       1\n",
       "wall         1\n",
       "Name: Guess, dtype: int64"
      ]
     },
     "execution_count": 157,
     "metadata": {},
     "output_type": "execute_result"
    }
   ],
   "source": [
    "word_frequency_df.groupby(\"Tesseract\")[\"Guess\"].count()"
   ]
  },
  {
   "cell_type": "code",
   "execution_count": 57,
   "metadata": {
    "collapsed": true
   },
   "outputs": [
    {
     "data": {
      "text/html": [
       "<div>\n",
       "<style scoped>\n",
       "    .dataframe tbody tr th:only-of-type {\n",
       "        vertical-align: middle;\n",
       "    }\n",
       "\n",
       "    .dataframe tbody tr th {\n",
       "        vertical-align: top;\n",
       "    }\n",
       "\n",
       "    .dataframe thead th {\n",
       "        text-align: right;\n",
       "    }\n",
       "</style>\n",
       "<table border=\"1\" class=\"dataframe\">\n",
       "  <thead>\n",
       "    <tr style=\"text-align: right;\">\n",
       "      <th></th>\n",
       "      <th>directory_uuid</th>\n",
       "      <th>page_uuid</th>\n",
       "      <th>entry_uuid</th>\n",
       "      <th>location_count</th>\n",
       "      <th>offset_count</th>\n",
       "      <th>token</th>\n",
       "      <th>token_re</th>\n",
       "      <th>token_matched</th>\n",
       "      <th>pct_similarity</th>\n",
       "    </tr>\n",
       "  </thead>\n",
       "  <tbody>\n",
       "    <tr>\n",
       "      <th>516890</th>\n",
       "      <td>4b119360-317a-0134-9131-00505686a51c</td>\n",
       "      <td>324.56767280.42990c50-5361-0134-af65-00505686a51c</td>\n",
       "      <td>87632a304cdc11eaba67821070c5d000</td>\n",
       "      <td>1</td>\n",
       "      <td>2</td>\n",
       "      <td>av.</td>\n",
       "      <td>av</td>\n",
       "      <td>[Av, 100]</td>\n",
       "      <td>100.0</td>\n",
       "    </tr>\n",
       "    <tr>\n",
       "      <th>314224</th>\n",
       "      <td>4b119360-317a-0134-9131-00505686a51c</td>\n",
       "      <td>753.56767709.88d47570-5361-0134-38cb-00505686a51c</td>\n",
       "      <td>8a3565624cdb11eaba67821070c5d000</td>\n",
       "      <td>0</td>\n",
       "      <td>1</td>\n",
       "      <td>Walker</td>\n",
       "      <td>walker</td>\n",
       "      <td>[Walker, 100]</td>\n",
       "      <td>100.0</td>\n",
       "    </tr>\n",
       "    <tr>\n",
       "      <th>374638</th>\n",
       "      <td>4b119360-317a-0134-9131-00505686a51c</td>\n",
       "      <td>807.56767763.8ddcc760-5361-0134-19f4-00505686a51c</td>\n",
       "      <td>d56633f44cdb11eaba67821070c5d000</td>\n",
       "      <td>0</td>\n",
       "      <td>0</td>\n",
       "      <td>175</td>\n",
       "      <td>175</td>\n",
       "      <td>175</td>\n",
       "      <td>NaN</td>\n",
       "    </tr>\n",
       "    <tr>\n",
       "      <th>209898</th>\n",
       "      <td>4b119360-317a-0134-9131-00505686a51c</td>\n",
       "      <td>495.56767451.51f57f70-5361-0134-06d3-00505686a51c</td>\n",
       "      <td>08b519924cdb11eaba67821070c5d000</td>\n",
       "      <td>0</td>\n",
       "      <td>0</td>\n",
       "      <td>227</td>\n",
       "      <td>227</td>\n",
       "      <td>227</td>\n",
       "      <td>NaN</td>\n",
       "    </tr>\n",
       "    <tr>\n",
       "      <th>24063</th>\n",
       "      <td>4b119360-317a-0134-9131-00505686a51c</td>\n",
       "      <td>968.56767924.9c85c870-5361-0134-ed06-00505686a51c</td>\n",
       "      <td>2494c6404cda11eaba67821070c5d000</td>\n",
       "      <td>0</td>\n",
       "      <td>0</td>\n",
       "      <td>71</td>\n",
       "      <td>71</td>\n",
       "      <td>71</td>\n",
       "      <td>NaN</td>\n",
       "    </tr>\n",
       "    <tr>\n",
       "      <th>...</th>\n",
       "      <td>...</td>\n",
       "      <td>...</td>\n",
       "      <td>...</td>\n",
       "      <td>...</td>\n",
       "      <td>...</td>\n",
       "      <td>...</td>\n",
       "      <td>...</td>\n",
       "      <td>...</td>\n",
       "      <td>...</td>\n",
       "    </tr>\n",
       "    <tr>\n",
       "      <th>55608</th>\n",
       "      <td>4b119360-317a-0134-9131-00505686a51c</td>\n",
       "      <td>581.56767537.79185120-5361-0134-c5b0-00505686a51c</td>\n",
       "      <td>4bbfba224cda11eaba67821070c5d000</td>\n",
       "      <td>0</td>\n",
       "      <td>1</td>\n",
       "      <td>Division</td>\n",
       "      <td>division</td>\n",
       "      <td>[Division, 100]</td>\n",
       "      <td>100.0</td>\n",
       "    </tr>\n",
       "    <tr>\n",
       "      <th>222959</th>\n",
       "      <td>4b119360-317a-0134-9131-00505686a51c</td>\n",
       "      <td>225.56767181.39bcebf0-5361-0134-159b-00505686a51c</td>\n",
       "      <td>19055f1e4cdb11eaba67821070c5d000</td>\n",
       "      <td>0</td>\n",
       "      <td>1</td>\n",
       "      <td>W.</td>\n",
       "      <td>w</td>\n",
       "      <td>[W, 100]</td>\n",
       "      <td>100.0</td>\n",
       "    </tr>\n",
       "    <tr>\n",
       "      <th>277149</th>\n",
       "      <td>4b119360-317a-0134-9131-00505686a51c</td>\n",
       "      <td>272.56767228.3e108dc0-5361-0134-8674-00505686a51c</td>\n",
       "      <td>5c53911e4cdb11eaba67821070c5d000</td>\n",
       "      <td>0</td>\n",
       "      <td>2</td>\n",
       "      <td>av.</td>\n",
       "      <td>av</td>\n",
       "      <td>[Av, 100]</td>\n",
       "      <td>100.0</td>\n",
       "    </tr>\n",
       "    <tr>\n",
       "      <th>459441</th>\n",
       "      <td>4b119360-317a-0134-9131-00505686a51c</td>\n",
       "      <td>1074.56768030.8929db10-5362-0134-28d2-00505686...</td>\n",
       "      <td>3fd541a84cdc11eaba67821070c5d000</td>\n",
       "      <td>0</td>\n",
       "      <td>1</td>\n",
       "      <td>W.</td>\n",
       "      <td>w</td>\n",
       "      <td>[W, 100]</td>\n",
       "      <td>100.0</td>\n",
       "    </tr>\n",
       "    <tr>\n",
       "      <th>70224</th>\n",
       "      <td>4b119360-317a-0134-9131-00505686a51c</td>\n",
       "      <td>1030.56767986.851bb340-5362-0134-c7bb-00505686...</td>\n",
       "      <td>5d2e589a4cda11eaba67821070c5d000</td>\n",
       "      <td>0</td>\n",
       "      <td>1</td>\n",
       "      <td>oe</td>\n",
       "      <td>oe</td>\n",
       "      <td>[One, 80]</td>\n",
       "      <td>80.0</td>\n",
       "    </tr>\n",
       "  </tbody>\n",
       "</table>\n",
       "<p>100 rows × 9 columns</p>\n",
       "</div>"
      ],
      "text/plain": [
       "                              directory_uuid  \\\n",
       "516890  4b119360-317a-0134-9131-00505686a51c   \n",
       "314224  4b119360-317a-0134-9131-00505686a51c   \n",
       "374638  4b119360-317a-0134-9131-00505686a51c   \n",
       "209898  4b119360-317a-0134-9131-00505686a51c   \n",
       "24063   4b119360-317a-0134-9131-00505686a51c   \n",
       "...                                      ...   \n",
       "55608   4b119360-317a-0134-9131-00505686a51c   \n",
       "222959  4b119360-317a-0134-9131-00505686a51c   \n",
       "277149  4b119360-317a-0134-9131-00505686a51c   \n",
       "459441  4b119360-317a-0134-9131-00505686a51c   \n",
       "70224   4b119360-317a-0134-9131-00505686a51c   \n",
       "\n",
       "                                                page_uuid  \\\n",
       "516890  324.56767280.42990c50-5361-0134-af65-00505686a51c   \n",
       "314224  753.56767709.88d47570-5361-0134-38cb-00505686a51c   \n",
       "374638  807.56767763.8ddcc760-5361-0134-19f4-00505686a51c   \n",
       "209898  495.56767451.51f57f70-5361-0134-06d3-00505686a51c   \n",
       "24063   968.56767924.9c85c870-5361-0134-ed06-00505686a51c   \n",
       "...                                                   ...   \n",
       "55608   581.56767537.79185120-5361-0134-c5b0-00505686a51c   \n",
       "222959  225.56767181.39bcebf0-5361-0134-159b-00505686a51c   \n",
       "277149  272.56767228.3e108dc0-5361-0134-8674-00505686a51c   \n",
       "459441  1074.56768030.8929db10-5362-0134-28d2-00505686...   \n",
       "70224   1030.56767986.851bb340-5362-0134-c7bb-00505686...   \n",
       "\n",
       "                              entry_uuid  location_count  offset_count  \\\n",
       "516890  87632a304cdc11eaba67821070c5d000               1             2   \n",
       "314224  8a3565624cdb11eaba67821070c5d000               0             1   \n",
       "374638  d56633f44cdb11eaba67821070c5d000               0             0   \n",
       "209898  08b519924cdb11eaba67821070c5d000               0             0   \n",
       "24063   2494c6404cda11eaba67821070c5d000               0             0   \n",
       "...                                  ...             ...           ...   \n",
       "55608   4bbfba224cda11eaba67821070c5d000               0             1   \n",
       "222959  19055f1e4cdb11eaba67821070c5d000               0             1   \n",
       "277149  5c53911e4cdb11eaba67821070c5d000               0             2   \n",
       "459441  3fd541a84cdc11eaba67821070c5d000               0             1   \n",
       "70224   5d2e589a4cda11eaba67821070c5d000               0             1   \n",
       "\n",
       "           token  token_re    token_matched  pct_similarity  \n",
       "516890       av.        av        [Av, 100]           100.0  \n",
       "314224    Walker    walker    [Walker, 100]           100.0  \n",
       "374638       175       175              175             NaN  \n",
       "209898       227       227              227             NaN  \n",
       "24063         71        71               71             NaN  \n",
       "...          ...       ...              ...             ...  \n",
       "55608   Division  division  [Division, 100]           100.0  \n",
       "222959        W.         w         [W, 100]           100.0  \n",
       "277149       av.        av        [Av, 100]           100.0  \n",
       "459441        W.         w         [W, 100]           100.0  \n",
       "70224         oe        oe        [One, 80]            80.0  \n",
       "\n",
       "[100 rows x 9 columns]"
      ]
     },
     "execution_count": 57,
     "metadata": {},
     "output_type": "execute_result"
    }
   ],
   "source": [
    "locations_tsv_trunc_2\n",
    "\n",
    "# Issues and errors examples:\n",
    "## False negatives: bway -> broadway, 67% similar \n",
    "## False positives: 127th -> 12th, 89% similar\n",
    "## True positives: grand -> Grand, 100% similar\n",
    "## True negatives: 68d -> dry, 33% similar | pl -> Pell, 67% similar"
   ]
  },
  {
   "cell_type": "code",
   "execution_count": 92,
   "metadata": {
    "scrolled": true
   },
   "outputs": [
    {
     "name": "stdout",
     "output_type": "stream",
     "text": [
      "151343\n"
     ]
    },
    {
     "data": {
      "text/html": [
       "<div>\n",
       "<style scoped>\n",
       "    .dataframe tbody tr th:only-of-type {\n",
       "        vertical-align: middle;\n",
       "    }\n",
       "\n",
       "    .dataframe tbody tr th {\n",
       "        vertical-align: top;\n",
       "    }\n",
       "\n",
       "    .dataframe thead th {\n",
       "        text-align: right;\n",
       "    }\n",
       "</style>\n",
       "<table border=\"1\" class=\"dataframe\">\n",
       "  <thead>\n",
       "    <tr style=\"text-align: right;\">\n",
       "      <th></th>\n",
       "      <th>directory_uuid</th>\n",
       "      <th>page_uuid</th>\n",
       "      <th>entry_uuid</th>\n",
       "      <th>occupation_count</th>\n",
       "      <th>offset_count</th>\n",
       "      <th>token</th>\n",
       "    </tr>\n",
       "  </thead>\n",
       "  <tbody>\n",
       "    <tr>\n",
       "      <th>0</th>\n",
       "      <td>4b119360-317a-0134-9131-00505686a51c</td>\n",
       "      <td>720.56767676.85dd7cc0-5361-0134-726e-00505686a51c</td>\n",
       "      <td>076eb3324cda11eaba67821070c5d000</td>\n",
       "      <td>0</td>\n",
       "      <td>0</td>\n",
       "      <td>mings</td>\n",
       "    </tr>\n",
       "    <tr>\n",
       "      <th>1</th>\n",
       "      <td>4b119360-317a-0134-9131-00505686a51c</td>\n",
       "      <td>720.56767676.85dd7cc0-5361-0134-726e-00505686a51c</td>\n",
       "      <td>076eb5d04cda11eaba67821070c5d000</td>\n",
       "      <td>0</td>\n",
       "      <td>0</td>\n",
       "      <td>meat</td>\n",
       "    </tr>\n",
       "    <tr>\n",
       "      <th>2</th>\n",
       "      <td>4b119360-317a-0134-9131-00505686a51c</td>\n",
       "      <td>720.56767676.85dd7cc0-5361-0134-726e-00505686a51c</td>\n",
       "      <td>076eb6844cda11eaba67821070c5d000</td>\n",
       "      <td>0</td>\n",
       "      <td>0</td>\n",
       "      <td>tailor</td>\n",
       "    </tr>\n",
       "    <tr>\n",
       "      <th>3</th>\n",
       "      <td>4b119360-317a-0134-9131-00505686a51c</td>\n",
       "      <td>720.56767676.85dd7cc0-5361-0134-726e-00505686a51c</td>\n",
       "      <td>076eb7244cda11eaba67821070c5d000</td>\n",
       "      <td>0</td>\n",
       "      <td>0</td>\n",
       "      <td>wid.</td>\n",
       "    </tr>\n",
       "    <tr>\n",
       "      <th>4</th>\n",
       "      <td>4b119360-317a-0134-9131-00505686a51c</td>\n",
       "      <td>720.56767676.85dd7cc0-5361-0134-726e-00505686a51c</td>\n",
       "      <td>076eb7244cda11eaba67821070c5d000</td>\n",
       "      <td>0</td>\n",
       "      <td>1</td>\n",
       "      <td>Michael</td>\n",
       "    </tr>\n",
       "    <tr>\n",
       "      <th>5</th>\n",
       "      <td>4b119360-317a-0134-9131-00505686a51c</td>\n",
       "      <td>720.56767676.85dd7cc0-5361-0134-726e-00505686a51c</td>\n",
       "      <td>076eb7b04cda11eaba67821070c5d000</td>\n",
       "      <td>0</td>\n",
       "      <td>0</td>\n",
       "      <td>shoemkr</td>\n",
       "    </tr>\n",
       "    <tr>\n",
       "      <th>6</th>\n",
       "      <td>4b119360-317a-0134-9131-00505686a51c</td>\n",
       "      <td>720.56767676.85dd7cc0-5361-0134-726e-00505686a51c</td>\n",
       "      <td>076eb83c4cda11eaba67821070c5d000</td>\n",
       "      <td>0</td>\n",
       "      <td>0</td>\n",
       "      <td>u.</td>\n",
       "    </tr>\n",
       "    <tr>\n",
       "      <th>7</th>\n",
       "      <td>4b119360-317a-0134-9131-00505686a51c</td>\n",
       "      <td>720.56767676.85dd7cc0-5361-0134-726e-00505686a51c</td>\n",
       "      <td>076eb83c4cda11eaba67821070c5d000</td>\n",
       "      <td>0</td>\n",
       "      <td>1</td>\n",
       "      <td>s</td>\n",
       "    </tr>\n",
       "    <tr>\n",
       "      <th>8</th>\n",
       "      <td>4b119360-317a-0134-9131-00505686a51c</td>\n",
       "      <td>720.56767676.85dd7cc0-5361-0134-726e-00505686a51c</td>\n",
       "      <td>076eb8e64cda11eaba67821070c5d000</td>\n",
       "      <td>0</td>\n",
       "      <td>0</td>\n",
       "      <td>tailor</td>\n",
       "    </tr>\n",
       "    <tr>\n",
       "      <th>9</th>\n",
       "      <td>4b119360-317a-0134-9131-00505686a51c</td>\n",
       "      <td>720.56767676.85dd7cc0-5361-0134-726e-00505686a51c</td>\n",
       "      <td>076eb9684cda11eaba67821070c5d000</td>\n",
       "      <td>0</td>\n",
       "      <td>0</td>\n",
       "      <td>carpenter</td>\n",
       "    </tr>\n",
       "    <tr>\n",
       "      <th>10</th>\n",
       "      <td>4b119360-317a-0134-9131-00505686a51c</td>\n",
       "      <td>720.56767676.85dd7cc0-5361-0134-726e-00505686a51c</td>\n",
       "      <td>076eba584cda11eaba67821070c5d000</td>\n",
       "      <td>0</td>\n",
       "      <td>0</td>\n",
       "      <td>machinist</td>\n",
       "    </tr>\n",
       "    <tr>\n",
       "      <th>11</th>\n",
       "      <td>4b119360-317a-0134-9131-00505686a51c</td>\n",
       "      <td>720.56767676.85dd7cc0-5361-0134-726e-00505686a51c</td>\n",
       "      <td>076ebaf84cda11eaba67821070c5d000</td>\n",
       "      <td>0</td>\n",
       "      <td>0</td>\n",
       "      <td>carpenter</td>\n",
       "    </tr>\n",
       "    <tr>\n",
       "      <th>12</th>\n",
       "      <td>4b119360-317a-0134-9131-00505686a51c</td>\n",
       "      <td>720.56767676.85dd7cc0-5361-0134-726e-00505686a51c</td>\n",
       "      <td>076ebb7a4cda11eaba67821070c5d000</td>\n",
       "      <td>0</td>\n",
       "      <td>0</td>\n",
       "      <td>laborer</td>\n",
       "    </tr>\n",
       "    <tr>\n",
       "      <th>13</th>\n",
       "      <td>4b119360-317a-0134-9131-00505686a51c</td>\n",
       "      <td>720.56767676.85dd7cc0-5361-0134-726e-00505686a51c</td>\n",
       "      <td>076ebbf24cda11eaba67821070c5d000</td>\n",
       "      <td>0</td>\n",
       "      <td>0</td>\n",
       "      <td>lawyer</td>\n",
       "    </tr>\n",
       "    <tr>\n",
       "      <th>14</th>\n",
       "      <td>4b119360-317a-0134-9131-00505686a51c</td>\n",
       "      <td>720.56767676.85dd7cc0-5361-0134-726e-00505686a51c</td>\n",
       "      <td>076ebc7e4cda11eaba67821070c5d000</td>\n",
       "      <td>0</td>\n",
       "      <td>0</td>\n",
       "      <td>clerk</td>\n",
       "    </tr>\n",
       "    <tr>\n",
       "      <th>15</th>\n",
       "      <td>4b119360-317a-0134-9131-00505686a51c</td>\n",
       "      <td>720.56767676.85dd7cc0-5361-0134-726e-00505686a51c</td>\n",
       "      <td>076ebcf64cda11eaba67821070c5d000</td>\n",
       "      <td>0</td>\n",
       "      <td>0</td>\n",
       "      <td>brushmkr</td>\n",
       "    </tr>\n",
       "    <tr>\n",
       "      <th>16</th>\n",
       "      <td>4b119360-317a-0134-9131-00505686a51c</td>\n",
       "      <td>720.56767676.85dd7cc0-5361-0134-726e-00505686a51c</td>\n",
       "      <td>076ebd8c4cda11eaba67821070c5d000</td>\n",
       "      <td>0</td>\n",
       "      <td>0</td>\n",
       "      <td>lawyer</td>\n",
       "    </tr>\n",
       "    <tr>\n",
       "      <th>17</th>\n",
       "      <td>4b119360-317a-0134-9131-00505686a51c</td>\n",
       "      <td>720.56767676.85dd7cc0-5361-0134-726e-00505686a51c</td>\n",
       "      <td>076ebe044cda11eaba67821070c5d000</td>\n",
       "      <td>0</td>\n",
       "      <td>0</td>\n",
       "      <td>laborer</td>\n",
       "    </tr>\n",
       "    <tr>\n",
       "      <th>18</th>\n",
       "      <td>4b119360-317a-0134-9131-00505686a51c</td>\n",
       "      <td>720.56767676.85dd7cc0-5361-0134-726e-00505686a51c</td>\n",
       "      <td>076ebe864cda11eaba67821070c5d000</td>\n",
       "      <td>0</td>\n",
       "      <td>0</td>\n",
       "      <td>actor</td>\n",
       "    </tr>\n",
       "    <tr>\n",
       "      <th>19</th>\n",
       "      <td>4b119360-317a-0134-9131-00505686a51c</td>\n",
       "      <td>720.56767676.85dd7cc0-5361-0134-726e-00505686a51c</td>\n",
       "      <td>076ebef44cda11eaba67821070c5d000</td>\n",
       "      <td>0</td>\n",
       "      <td>0</td>\n",
       "      <td>wid.</td>\n",
       "    </tr>\n",
       "  </tbody>\n",
       "</table>\n",
       "</div>"
      ],
      "text/plain": [
       "                          directory_uuid  \\\n",
       "0   4b119360-317a-0134-9131-00505686a51c   \n",
       "1   4b119360-317a-0134-9131-00505686a51c   \n",
       "2   4b119360-317a-0134-9131-00505686a51c   \n",
       "3   4b119360-317a-0134-9131-00505686a51c   \n",
       "4   4b119360-317a-0134-9131-00505686a51c   \n",
       "5   4b119360-317a-0134-9131-00505686a51c   \n",
       "6   4b119360-317a-0134-9131-00505686a51c   \n",
       "7   4b119360-317a-0134-9131-00505686a51c   \n",
       "8   4b119360-317a-0134-9131-00505686a51c   \n",
       "9   4b119360-317a-0134-9131-00505686a51c   \n",
       "10  4b119360-317a-0134-9131-00505686a51c   \n",
       "11  4b119360-317a-0134-9131-00505686a51c   \n",
       "12  4b119360-317a-0134-9131-00505686a51c   \n",
       "13  4b119360-317a-0134-9131-00505686a51c   \n",
       "14  4b119360-317a-0134-9131-00505686a51c   \n",
       "15  4b119360-317a-0134-9131-00505686a51c   \n",
       "16  4b119360-317a-0134-9131-00505686a51c   \n",
       "17  4b119360-317a-0134-9131-00505686a51c   \n",
       "18  4b119360-317a-0134-9131-00505686a51c   \n",
       "19  4b119360-317a-0134-9131-00505686a51c   \n",
       "\n",
       "                                            page_uuid  \\\n",
       "0   720.56767676.85dd7cc0-5361-0134-726e-00505686a51c   \n",
       "1   720.56767676.85dd7cc0-5361-0134-726e-00505686a51c   \n",
       "2   720.56767676.85dd7cc0-5361-0134-726e-00505686a51c   \n",
       "3   720.56767676.85dd7cc0-5361-0134-726e-00505686a51c   \n",
       "4   720.56767676.85dd7cc0-5361-0134-726e-00505686a51c   \n",
       "5   720.56767676.85dd7cc0-5361-0134-726e-00505686a51c   \n",
       "6   720.56767676.85dd7cc0-5361-0134-726e-00505686a51c   \n",
       "7   720.56767676.85dd7cc0-5361-0134-726e-00505686a51c   \n",
       "8   720.56767676.85dd7cc0-5361-0134-726e-00505686a51c   \n",
       "9   720.56767676.85dd7cc0-5361-0134-726e-00505686a51c   \n",
       "10  720.56767676.85dd7cc0-5361-0134-726e-00505686a51c   \n",
       "11  720.56767676.85dd7cc0-5361-0134-726e-00505686a51c   \n",
       "12  720.56767676.85dd7cc0-5361-0134-726e-00505686a51c   \n",
       "13  720.56767676.85dd7cc0-5361-0134-726e-00505686a51c   \n",
       "14  720.56767676.85dd7cc0-5361-0134-726e-00505686a51c   \n",
       "15  720.56767676.85dd7cc0-5361-0134-726e-00505686a51c   \n",
       "16  720.56767676.85dd7cc0-5361-0134-726e-00505686a51c   \n",
       "17  720.56767676.85dd7cc0-5361-0134-726e-00505686a51c   \n",
       "18  720.56767676.85dd7cc0-5361-0134-726e-00505686a51c   \n",
       "19  720.56767676.85dd7cc0-5361-0134-726e-00505686a51c   \n",
       "\n",
       "                          entry_uuid  occupation_count  offset_count  \\\n",
       "0   076eb3324cda11eaba67821070c5d000                 0             0   \n",
       "1   076eb5d04cda11eaba67821070c5d000                 0             0   \n",
       "2   076eb6844cda11eaba67821070c5d000                 0             0   \n",
       "3   076eb7244cda11eaba67821070c5d000                 0             0   \n",
       "4   076eb7244cda11eaba67821070c5d000                 0             1   \n",
       "5   076eb7b04cda11eaba67821070c5d000                 0             0   \n",
       "6   076eb83c4cda11eaba67821070c5d000                 0             0   \n",
       "7   076eb83c4cda11eaba67821070c5d000                 0             1   \n",
       "8   076eb8e64cda11eaba67821070c5d000                 0             0   \n",
       "9   076eb9684cda11eaba67821070c5d000                 0             0   \n",
       "10  076eba584cda11eaba67821070c5d000                 0             0   \n",
       "11  076ebaf84cda11eaba67821070c5d000                 0             0   \n",
       "12  076ebb7a4cda11eaba67821070c5d000                 0             0   \n",
       "13  076ebbf24cda11eaba67821070c5d000                 0             0   \n",
       "14  076ebc7e4cda11eaba67821070c5d000                 0             0   \n",
       "15  076ebcf64cda11eaba67821070c5d000                 0             0   \n",
       "16  076ebd8c4cda11eaba67821070c5d000                 0             0   \n",
       "17  076ebe044cda11eaba67821070c5d000                 0             0   \n",
       "18  076ebe864cda11eaba67821070c5d000                 0             0   \n",
       "19  076ebef44cda11eaba67821070c5d000                 0             0   \n",
       "\n",
       "        token  \n",
       "0       mings  \n",
       "1        meat  \n",
       "2      tailor  \n",
       "3        wid.  \n",
       "4     Michael  \n",
       "5     shoemkr  \n",
       "6          u.  \n",
       "7           s  \n",
       "8      tailor  \n",
       "9   carpenter  \n",
       "10  machinist  \n",
       "11  carpenter  \n",
       "12    laborer  \n",
       "13     lawyer  \n",
       "14      clerk  \n",
       "15   brushmkr  \n",
       "16     lawyer  \n",
       "17    laborer  \n",
       "18      actor  \n",
       "19       wid.  "
      ]
     },
     "execution_count": 92,
     "metadata": {},
     "output_type": "execute_result"
    }
   ],
   "source": [
    "print(occupations_tsv.entry_uuid.nunique())\n",
    "occupations_tsv.head(n = 20)"
   ]
  },
  {
   "cell_type": "markdown",
   "metadata": {},
   "source": [
    "Some pre-processing here:  \n",
    "1) Removed punctuation"
   ]
  },
  {
   "cell_type": "code",
   "execution_count": 291,
   "metadata": {},
   "outputs": [],
   "source": [
    "# function remove punctuation; converts plural to singular; removing single-lettered entries; remove names; remove completely capitalized nouns \n",
    "def clean_token(token):\n",
    "    token = str(token)\n",
    "    # check for names\n",
    "    title_case = token.istitle()\n",
    "    if title_case is True:\n",
    "        token = \"\"\n",
    "        return token\n",
    "    else:\n",
    "        # check and correct for punctuation\n",
    "        token = ''.join(t for t in token if t.isalnum())\n",
    "        # check for numbers\n",
    "        numeral = token.isdigit()\n",
    "        if numeral is True:\n",
    "            token = \"\"\n",
    "            return token\n",
    "        # remove single entries\n",
    "        if len(token) == 1: \n",
    "            token = \"\"\n",
    "            return token\n",
    "        # remove completely capitalized words because they might be from adverts\n",
    "        caps = token.isupper()\n",
    "        if caps is True:\n",
    "            token = \"\"\n",
    "            return token\n",
    "        # check and stems plural nouns\n",
    "        elif token.endswith(\"s\"):\n",
    "            token = token.rstrip(\"s\")\n",
    "            return token\n",
    "        else:\n",
    "            return token\n",
    "\n",
    "# apply to column and create new column\n",
    "occupations_tsv_working_copy = occupations_tsv\n",
    "occupations_tsv_working_copy[\"token_re\"] = occupations_tsv_working_copy[\"token\"].apply(clean_token)\n",
    "\n",
    "# drop rows with just whitespace\n",
    "occupations_tsv_working_copy = occupations_tsv_working_copy.drop(occupations_tsv_working_copy[(occupations_tsv_working_copy.token_re == '')].index)\n",
    "\n",
    "occupations_freq = occupations_tsv_working_copy[\"token_re\"].value_counts()"
   ]
  },
  {
   "cell_type": "code",
   "execution_count": 297,
   "metadata": {
    "scrolled": true
   },
   "outputs": [
    {
     "data": {
      "text/plain": [
       "wid           13426\n",
       "laborer        9509\n",
       "tailor         5689\n",
       "clerk          5115\n",
       "mer            4065\n",
       "carpenter      3768\n",
       "grocer         3670\n",
       "liquor         3375\n",
       "broker         2635\n",
       "carman         2569\n",
       "lawyer         2436\n",
       "smith          2408\n",
       "butcher        2408\n",
       "shoemkr        2382\n",
       "seaman         1810\n",
       "painter        1715\n",
       "baker          1590\n",
       "machinist      1559\n",
       "porter         1544\n",
       "agent          1364\n",
       "imp            1349\n",
       "segar          1320\n",
       "mason          1279\n",
       "driver         1272\n",
       "police         1225\n",
       "shoe           1216\n",
       "cabinetmkr     1173\n",
       "physician      1113\n",
       "printer        1093\n",
       "saloon         1081\n",
       "produce        1035\n",
       "drygd          1020\n",
       "washing        1018\n",
       "segarmkr       1003\n",
       "mkt             976\n",
       "bdgh            958\n",
       "pre             880\n",
       "cooper          839\n",
       "pedlar          823\n",
       "clothing        822\n",
       "barber          815\n",
       "jeweler         814\n",
       "dressmkr        729\n",
       "engineer        702\n",
       "drug            683\n",
       "fancygd         683\n",
       "waiter          640\n",
       "banker          609\n",
       "plumber         579\n",
       "hat             578\n",
       "milk            549\n",
       "sec             535\n",
       "teacher         533\n",
       "sewing          533\n",
       "beer            516\n",
       "of              505\n",
       "builder         500\n",
       "hardware        473\n",
       "joiner          471\n",
       "cutter          450\n",
       "Name: token_re, dtype: int64"
      ]
     },
     "execution_count": 297,
     "metadata": {},
     "output_type": "execute_result"
    }
   ],
   "source": [
    "occupations_freq.head(n = 60)"
   ]
  },
  {
   "cell_type": "code",
   "execution_count": 292,
   "metadata": {
    "scrolled": true
   },
   "outputs": [
    {
     "data": {
      "text/plain": [
       "(6940,)"
      ]
     },
     "execution_count": 292,
     "metadata": {},
     "output_type": "execute_result"
    }
   ],
   "source": [
    "occupations_freq.shape"
   ]
  },
  {
   "cell_type": "markdown",
   "metadata": {},
   "source": [
    "Assuming that Tesseract makes text recognition errors systematically and randomly, it can therefore be expected that variations of the same word is scattered throughout the dataset. Hence, less frequently occuring words can be matched to more frequently occurring one repeatedly until it coalesces to a more \"correct\" list. "
   ]
  },
  {
   "cell_type": "code",
   "execution_count": 329,
   "metadata": {},
   "outputs": [],
   "source": [
    "occupations_freq_df = pd.DataFrame(occupations_tsv_working_copy.groupby(\"token_re\", as_index = False)[\"token\"].count()).sort_values(by = \"token\",\n",
    "                                                                                                                                   ascending = False).reset_index(drop = True)"
   ]
  },
  {
   "cell_type": "code",
   "execution_count": 330,
   "metadata": {},
   "outputs": [
    {
     "data": {
      "text/html": [
       "<div>\n",
       "<style scoped>\n",
       "    .dataframe tbody tr th:only-of-type {\n",
       "        vertical-align: middle;\n",
       "    }\n",
       "\n",
       "    .dataframe tbody tr th {\n",
       "        vertical-align: top;\n",
       "    }\n",
       "\n",
       "    .dataframe thead th {\n",
       "        text-align: right;\n",
       "    }\n",
       "</style>\n",
       "<table border=\"1\" class=\"dataframe\">\n",
       "  <thead>\n",
       "    <tr style=\"text-align: right;\">\n",
       "      <th></th>\n",
       "      <th>token_re</th>\n",
       "      <th>token</th>\n",
       "    </tr>\n",
       "  </thead>\n",
       "  <tbody>\n",
       "    <tr>\n",
       "      <th>0</th>\n",
       "      <td>wid</td>\n",
       "      <td>13426</td>\n",
       "    </tr>\n",
       "    <tr>\n",
       "      <th>1</th>\n",
       "      <td>laborer</td>\n",
       "      <td>9509</td>\n",
       "    </tr>\n",
       "    <tr>\n",
       "      <th>2</th>\n",
       "      <td>tailor</td>\n",
       "      <td>5689</td>\n",
       "    </tr>\n",
       "    <tr>\n",
       "      <th>3</th>\n",
       "      <td>clerk</td>\n",
       "      <td>5115</td>\n",
       "    </tr>\n",
       "    <tr>\n",
       "      <th>4</th>\n",
       "      <td>mer</td>\n",
       "      <td>4065</td>\n",
       "    </tr>\n",
       "    <tr>\n",
       "      <th>...</th>\n",
       "      <td>...</td>\n",
       "      <td>...</td>\n",
       "    </tr>\n",
       "    <tr>\n",
       "      <th>6935</th>\n",
       "      <td>guii</td>\n",
       "      <td>1</td>\n",
       "    </tr>\n",
       "    <tr>\n",
       "      <th>6936</th>\n",
       "      <td>guase</td>\n",
       "      <td>1</td>\n",
       "    </tr>\n",
       "    <tr>\n",
       "      <th>6937</th>\n",
       "      <td>guano</td>\n",
       "      <td>1</td>\n",
       "    </tr>\n",
       "    <tr>\n",
       "      <th>6938</th>\n",
       "      <td>érocer</td>\n",
       "      <td>1</td>\n",
       "    </tr>\n",
       "    <tr>\n",
       "      <th>6939</th>\n",
       "      <td>nan</td>\n",
       "      <td>0</td>\n",
       "    </tr>\n",
       "  </tbody>\n",
       "</table>\n",
       "<p>6940 rows × 2 columns</p>\n",
       "</div>"
      ],
      "text/plain": [
       "     token_re  token\n",
       "0         wid  13426\n",
       "1     laborer   9509\n",
       "2      tailor   5689\n",
       "3       clerk   5115\n",
       "4         mer   4065\n",
       "...       ...    ...\n",
       "6935     guii      1\n",
       "6936    guase      1\n",
       "6937    guano      1\n",
       "6938   érocer      1\n",
       "6939      nan      0\n",
       "\n",
       "[6940 rows x 2 columns]"
      ]
     },
     "execution_count": 330,
     "metadata": {},
     "output_type": "execute_result"
    }
   ],
   "source": [
    "occupations_freq_df"
   ]
  },
  {
   "cell_type": "code",
   "execution_count": null,
   "metadata": {},
   "outputs": [],
   "source": [
    "print(subjects_tsv.entry_uuid.nunique())\n",
    "subjects_tsv.head(n = 20)"
   ]
  },
  {
   "cell_type": "markdown",
   "metadata": {},
   "source": [
    "## Discarded | Obsolete Code"
   ]
  },
  {
   "cell_type": "markdown",
   "metadata": {},
   "source": [
    "Initially, I thought that we might be able to correct some of the spelling errors presented by Tesseract. To test this, I applied this to a sample of occupations given that occupations are more likely to be found in a proper English dictionary than street and human names. However, the results are extremely poor due to the abbrieviations and Tesseract-errors. Furthermore, some words such as `segars` are the antiquated form of modern words such as `cigars` which the module does not pick up on. Instead, it suggests `sugars`, which is not technically wrong from a word-matching and spell-check standpoint. "
   ]
  },
  {
   "cell_type": "code",
   "execution_count": 249,
   "metadata": {},
   "outputs": [],
   "source": [
    "# https://www.clips.uantwerpen.be/pages/pattern-en#spelling\n",
    "# https://rustyonrampage.github.io/text-mining/2017/11/28/spelling-correction-with-python-and-nltk.html\n",
    "# https://www.nltk.org/\n",
    "\n",
    "\"\"\"\"\n",
    "from pattern.en import suggest\n",
    "\n",
    "#occupations sample\n",
    "occupations_sample = occupations_freq_res.loc[:, [\"original\"]].sample(n = 100)\n",
    "occupations_freq_res = occupations_freq.reset_index()\n",
    "occupations_freq_res = occupations_freq_res.rename(columns = {\"index\": \"original\"})\n",
    "occupations_freq_res = occupations_freq_res.astype({\"original\": str})\n",
    "\n",
    "# spellcheck function with suggest\n",
    "def spellcheck(token):\n",
    "    digit_check = token.isdigit()\n",
    "    if digit_check is True:\n",
    "        return token\n",
    "    else:\n",
    "        checked = suggest(token)\n",
    "        return checked\n",
    "    \n",
    "# Apply to sample\n",
    "occupations_sample[\"corrected\"] = occupations_sample[\"original\"].apply(spellcheck)\n",
    "\n",
    "# Glimpse into result\n",
    "occupations_sample.head(n = 60)\n",
    "\"\"\"\""
   ]
  },
  {
   "cell_type": "markdown",
   "metadata": {},
   "source": [
    "[Link](https://stackoverflow.com/questions/40712178/reading-the-json-file-with-multiple-objects-in-python) to help with decoding this particular JSON object. Multiple JSON object within one."
   ]
  },
  {
   "cell_type": "code",
   "execution_count": null,
   "metadata": {},
   "outputs": [],
   "source": [
    "# Opens the file and saves it to a pandas df\n",
    "##with open(path + test_json) as f:\n",
    "##    df = pd.read_json(f, lines=True)"
   ]
  },
  {
   "cell_type": "code",
   "execution_count": null,
   "metadata": {},
   "outputs": [],
   "source": [
    "# Quick look into the JSON table to check\n",
    "##df.tail()"
   ]
  },
  {
   "cell_type": "code",
   "execution_count": null,
   "metadata": {},
   "outputs": [],
   "source": [
    "# Manual uniqueness check\n",
    "##line_number = np.array(df.original_hocr_line_number)\n",
    "##unique_elements, counts_elements = np.unique(line_number, return_counts=True)\n",
    "##print(\"Frequency of unique values of the said array:\")\n",
    "##print(np.asarray((unique_elements, counts_elements)))"
   ]
  },
  {
   "cell_type": "markdown",
   "metadata": {},
   "source": [
    "Labels \"a\", \"h\", and \"r\" represent the relative addresses, and address types such as houses, and rear."
   ]
  },
  {
   "cell_type": "code",
   "execution_count": null,
   "metadata": {},
   "outputs": [],
   "source": [
    "# Quick glimpse of how the last column might actually look like\n",
    "## df.iloc[124,-1]"
   ]
  },
  {
   "cell_type": "code",
   "execution_count": null,
   "metadata": {},
   "outputs": [],
   "source": [
    "##df.iloc[110,-1]"
   ]
  },
  {
   "cell_type": "code",
   "execution_count": null,
   "metadata": {},
   "outputs": [],
   "source": [
    "##df.iloc[10,-1]"
   ]
  },
  {
   "cell_type": "code",
   "execution_count": null,
   "metadata": {},
   "outputs": [],
   "source": [
    "##df.iloc[4,-1]"
   ]
  },
  {
   "cell_type": "code",
   "execution_count": null,
   "metadata": {},
   "outputs": [],
   "source": [
    "##df.iloc[147, -1]"
   ]
  },
  {
   "cell_type": "code",
   "execution_count": null,
   "metadata": {},
   "outputs": [],
   "source": [
    "##df_labeled_entry = df.labeled_entry.apply(pd.Series)\n",
    "##df_locations = df_labeled_entry[\"locations\"]\n",
    "##df_locations = pd.concat([df_locations, df.original_hocr_line_number], axis = 1)"
   ]
  },
  {
   "cell_type": "code",
   "execution_count": null,
   "metadata": {},
   "outputs": [],
   "source": [
    "##df_locations"
   ]
  },
  {
   "cell_type": "code",
   "execution_count": null,
   "metadata": {},
   "outputs": [],
   "source": [
    "##df_locations.iloc[147,:]"
   ]
  },
  {
   "cell_type": "code",
   "execution_count": null,
   "metadata": {},
   "outputs": [],
   "source": [
    "##type(df_locations.iloc[147,0])"
   ]
  },
  {
   "cell_type": "code",
   "execution_count": null,
   "metadata": {},
   "outputs": [],
   "source": [
    "##type(df_locations.iloc[147,0][1])"
   ]
  },
  {
   "cell_type": "code",
   "execution_count": null,
   "metadata": {},
   "outputs": [],
   "source": [
    "##df_locations.iloc[147][0]"
   ]
  },
  {
   "cell_type": "markdown",
   "metadata": {},
   "source": [
    "In other words, each labeled entry's location is stored as a list of _n_ dictionaries with two key-value pairs of `value` and `labels`."
   ]
  },
  {
   "cell_type": "code",
   "execution_count": null,
   "metadata": {},
   "outputs": [],
   "source": [
    "##df_locations.iloc[3][0]"
   ]
  },
  {
   "cell_type": "code",
   "execution_count": null,
   "metadata": {},
   "outputs": [],
   "source": [
    "##type(df_locations)"
   ]
  },
  {
   "cell_type": "code",
   "execution_count": null,
   "metadata": {},
   "outputs": [],
   "source": [
    "# This checks for existence of labels, duly records the (non)existence, strips it out, appends to another list\n",
    "# This is done w/o loss to order\n",
    "\n",
    "#line_num_list = []\n",
    "#complete_street_name = []\n",
    "#split_street_name = []\n",
    "#labels = []\n",
    "#for entry in range(0,len(df_locations)):\n",
    "#    #print(df_locations.iloc[entry])\n",
    "#    for dicts in df_locations.iloc[entry][0]:\n",
    "#        if 'labels' in dicts:\n",
    "#            for key, value in dicts.items():\n",
    "#                #line_num_list.append(df_locations.iloc[entry][1])\n",
    "#                if key == 'labels':\n",
    "#                    labels.append(value)\n",
    "#                else:\n",
    "#                    complete_street_name.append(value)\n",
    "#                    street_name_split = str(value).split()\n",
    "#                    split_street_name.append(street_name_split)\n",
    "#                    line_num_list.append(df_locations.iloc[entry][1])\n",
    "#        else:\n",
    "#            for key, value in dicts.items():\n",
    "#                line_num_list.append(df_locations.iloc[entry][1])\n",
    "#                labels.append(\" \")\n",
    "#                complete_street_name.append(value)\n",
    "#                street_name_split = str(value).split()\n",
    "#                split_street_name.append(street_name_split)\n"
   ]
  },
  {
   "cell_type": "markdown",
   "metadata": {},
   "source": [
    "It appears that avenues are spelled out and streets are enumerated."
   ]
  },
  {
   "cell_type": "code",
   "execution_count": null,
   "metadata": {},
   "outputs": [],
   "source": [
    "#split_street_name"
   ]
  },
  {
   "cell_type": "code",
   "execution_count": null,
   "metadata": {},
   "outputs": [],
   "source": [
    "#unlisted_location = pd.concat([pd.Series(complete_street_name), pd.Series(split_street_name), pd.Series(labels), pd.Series(line_num_list)], axis = 1)\n",
    "#unlisted_location.columns = [\"complete_street_name\", \"split_street_name\", \"labels\", \"line_number\"]"
   ]
  },
  {
   "cell_type": "code",
   "execution_count": null,
   "metadata": {},
   "outputs": [],
   "source": [
    "#len(line_num_list)"
   ]
  },
  {
   "cell_type": "code",
   "execution_count": null,
   "metadata": {},
   "outputs": [],
   "source": [
    "#unlisted_location"
   ]
  },
  {
   "cell_type": "code",
   "execution_count": null,
   "metadata": {},
   "outputs": [],
   "source": [
    "# first order of business is to test if string is a street number\n",
    "# if it is not, then it is probably a street name, and a comparison can be made\n",
    "# Perform regex to remove the periods\n",
    "# https://www.datacamp.com/community/tutorials/fuzzy-string-python\n",
    "# https://datascience.stackexchange.com/questions/29775/how-to-check-and-correct-misspelling-in-the-data-of-pairs-of-words\n",
    "# http://blog.keyrus.co.uk/fuzzy_matching_101_part_i.html\n",
    "# http://blog.keyrus.co.uk/fuzzy_matching_101_part_ii.html\n",
    "\n",
    "#for i in range(0, len(unlisted_location)):\n",
    "#    non_numeric_street_name = []\n",
    "#    for address_component in unlisted_location.iloc[i, 1]:\n",
    "#        if address_component.isnumeric() == False:\n",
    "#            non_numeric_street_name.append(address_component)\n",
    "#            print(non_numeric_street_name)\n",
    "#        unlisted_location.iloc[i][\"non_numeric\"] = non_numeric_street_name\n",
    "            \n",
    "#        #print(address_component.isnumeric())\n"
   ]
  },
  {
   "cell_type": "code",
   "execution_count": null,
   "metadata": {},
   "outputs": [],
   "source": [
    "#unlisted_location"
   ]
  }
 ],
 "metadata": {
  "kernelspec": {
   "display_name": "Python 3",
   "language": "python",
   "name": "python3"
  },
  "language_info": {
   "codemirror_mode": {
    "name": "ipython",
    "version": 3
   },
   "file_extension": ".py",
   "mimetype": "text/x-python",
   "name": "python",
   "nbconvert_exporter": "python",
   "pygments_lexer": "ipython3",
   "version": "3.7.6"
  }
 },
 "nbformat": 4,
 "nbformat_minor": 4
}
