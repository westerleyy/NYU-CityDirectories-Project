{
 "cells": [
  {
   "cell_type": "code",
   "execution_count": 1,
   "metadata": {},
   "outputs": [],
   "source": [
    "#importing modules \n",
    "import json \n",
    "import pandas as pd\n",
    "import numpy as np\n",
    "import csv\n",
    "from fuzzywuzzy import fuzz, process\n",
    "import re\n",
    "from timeit import default_timer as timer\n",
    "import random\n",
    "import matplotlib.pyplot as plt\n",
    "from itertools import islice\n",
    "import pkg_resources\n",
    "from symspellpy import SymSpell, Verbosity\n",
    "\n",
    "# test file path\n",
    "path = \"./test_directory_files/\"\n",
    "tsv = \"tsv/\"\n",
    "locations = \"4b119360-317a-0134-9131-00505686a51c_locations.tsv\"\n",
    "occupations = \"4b119360-317a-0134-9131-00505686a51c_occupations.tsv\"\n",
    "subjects = \"4b119360-317a-0134-9131-00505686a51c_subjects.tsv\"\n",
    "test_json = \"119.56837603.5abc93e0-6e04-0134-173e-00505686a51c_labeled.json\"\n",
    "street_names_txt = \"./city-directory-entry-parser-master/streetnames.txt\"\n",
    "\n",
    "sym_spell = SymSpell()\n",
    "dictionary_path = pkg_resources.resource_filename(\n",
    "    \"symspellpy\", \"frequency_dictionary_en_82_765.txt\")\n",
    "sym_spell.load_dictionary(dictionary_path, 0, 1)\n",
    "\n",
    "# set seed\n",
    "random.seed(160220)"
   ]
  },
  {
   "cell_type": "code",
   "execution_count": null,
   "metadata": {},
   "outputs": [],
   "source": [
    "# Print out first 5 elements to demonstrate that dictionary is\n",
    "# successfully loaded\n",
    "##print(list(islice(sym_spell.words.items(), 5)))"
   ]
  },
  {
   "cell_type": "code",
   "execution_count": 2,
   "metadata": {},
   "outputs": [],
   "source": [
    "# Open tsvs and streetnames\n",
    "## From Nick: Columns are the directory uuid, page uuid, entry uuid, the number (in 0,1,2,3 index order) of the entry \n",
    "##            (remember that there could be more than one subject per entry, more than one occupation, etc.).Most are \n",
    "##            entry 0, but sometimes you might find an entry 1 if there are multiple subjects/occupations/locations. \n",
    "##            Then an offset number, e.g. the order of the token from the start of the entry. So a 0th token, 1st token,\n",
    "##            2nd token, etc. And finally the token itself in the last column.\n",
    "##            Remember that we have to keep that entry and offset number linked to each token otherwise we won't be able \n",
    "##            to swap any corrections back into the JSON file once we have a listed of recommended edits.\n",
    "\n",
    "locations_tsv = pd.read_csv(path + tsv + locations, \n",
    "                           sep = \"\\t\",\n",
    "                           quoting = csv.QUOTE_NONE)\n",
    "occupations_tsv = pd.read_csv(path + tsv + occupations, \n",
    "                           sep = \"\\t\",\n",
    "                           quoting = csv.QUOTE_NONE)\n",
    "subjects_tsv = pd.read_csv(path + tsv + subjects, \n",
    "                           sep = \"\\t\",\n",
    "                           quoting = csv.QUOTE_NONE)\n",
    "master_street_names = pd.read_csv(street_names_txt, \n",
    "                                  header = None)\n",
    "master_street_names = master_street_names[0].tolist()\n",
    "#master_street_names"
   ]
  },
  {
   "cell_type": "markdown",
   "metadata": {},
   "source": [
    "### Locations"
   ]
  },
  {
   "cell_type": "markdown",
   "metadata": {},
   "source": [
    "**Objectives:**  \n",
    "1) Find common Tesseract tokens  \n",
    "2) Assign level of confidence  \n",
    "3) Swap out those with high level of confidence  "
   ]
  },
  {
   "cell_type": "code",
   "execution_count": null,
   "metadata": {},
   "outputs": [],
   "source": [
    "print(locations_tsv.entry_uuid.nunique())\n",
    "#locations_tsv.head(n = 20)"
   ]
  },
  {
   "cell_type": "code",
   "execution_count": 3,
   "metadata": {},
   "outputs": [],
   "source": [
    "# function remove punctuation and default to lowercase\n",
    "def clean_token(token):\n",
    "    token_lower = token.lower()\n",
    "    token_clean = ''.join(t for t in token_lower if t.isalnum())\n",
    "    return token_clean\n",
    "\n",
    "# apply to column and create new column\n",
    "locations_tsv[\"token_re\"] = locations_tsv[\"token\"].apply(clean_token)\n",
    "\n",
    "# drop rows with just whitespace\n",
    "locations_tsv = locations_tsv.drop(locations_tsv[(locations_tsv.token_re == '')].index)\n",
    "\n",
    "# create trial pd\n",
    "locations_tsv_trunc = locations_tsv.sample(n = 500)\n",
    "#locations_tsv_trunc.head(n=50)"
   ]
  },
  {
   "cell_type": "markdown",
   "metadata": {},
   "source": [
    "#### Fuzzywuzzy\n",
    "The following trials a fuzzy matching approach to the problem of correcting location entries based on a dictionary of known street names.   \n",
    "The threshold is set at 90%. Only entries that are at least 90% similar to the list of known locations are successfully replaced. "
   ]
  },
  {
   "cell_type": "code",
   "execution_count": 4,
   "metadata": {},
   "outputs": [
    {
     "name": "stdout",
     "output_type": "stream",
     "text": [
      "3.721390900000003\n"
     ]
    }
   ],
   "source": [
    "# timer\n",
    "start = timer()\n",
    "\n",
    "# Create lists for similar and dissimilar tokens\n",
    "tesseract_s = []\n",
    "pct_similarity_s = []\n",
    "best_guess_s = []\n",
    "tesseract_d = []\n",
    "pct_similarity_d = []\n",
    "best_guess_d = []\n",
    "def fuzzy_match(x, choices=master_street_names, scorer=fuzz.token_sort_ratio, threshold = 90,\n",
    "                tesseract_s = tesseract_s, pct_similarity_s = pct_similarity_s, best_guess_s = best_guess_s,\n",
    "                tesseract_d = tesseract_d, pct_similarity_d = pct_similarity_d, best_guess_d = best_guess_d):\n",
    "    n = 0\n",
    "    # check if numeric:\n",
    "    digit_check = x.isdigit()\n",
    "    if digit_check is True:\n",
    "        return x\n",
    "    else:\n",
    "        best_guess, pct_similarity = process.extractOne(x, choices=choices, scorer=scorer)\n",
    "        if pct_similarity >= threshold:\n",
    "            tesseract_s.append(x)\n",
    "            pct_similarity_s.append(pct_similarity)\n",
    "            best_guess_s.append(best_guess)\n",
    "            return best_guess\n",
    "        else:\n",
    "            tesseract_d.append(x)\n",
    "            pct_similarity_d.append(pct_similarity)\n",
    "            best_guess_d.append(best_guess)\n",
    "            return None\n",
    "            \n",
    "        #print(best_guess)\n",
    "        #print(pct_similarity)\n",
    "\n",
    "        \n",
    "        \n",
    "# create a second truncated df to trial\n",
    "locations_tsv_trunc_2 = locations_tsv_trunc\n",
    "    \n",
    "# Following post explains why token_sort_ratio might be best \n",
    "## https://medium.com/analytics-vidhya/matching-messy-pandas-columns-with-fuzzywuzzy-4adda6c7994f\n",
    "## tldr: converts each word to a token, then sorts aphabetically. \n",
    "## Streetnames that are abbrievated and in full both start with the same letter so this avoids errors like bway -> w  \n",
    "\n",
    "#### FULL DATASET\n",
    "\n",
    "#locations_tsv[\"token_replaced\"] = locations_tsv[\"token_re\"].apply(\n",
    "#    fuzzy_match\n",
    "#    ,args=(\n",
    "#        master_street_names,\n",
    "#        fuzz.token_sort_ratio\n",
    "#    )\n",
    "#)\n",
    " \n",
    "#### SAMPLE DATASET  \n",
    "\n",
    "locations_tsv_trunc[\"token_replaced\"] = locations_tsv_trunc[\"token_re\"].apply(fuzzy_match)\n",
    "    \n",
    "## timer\n",
    "end = timer()\n",
    "print(end - start)"
   ]
  },
  {
   "cell_type": "code",
   "execution_count": 5,
   "metadata": {},
   "outputs": [],
   "source": [
    "# Put the lists from replacement fn above into a df\n",
    "## Dissimilarity\n",
    "dissimilar_frequency_df = pd.DataFrame({\"Tesseract\": tesseract_d,\n",
    "                    \"Guess\": best_guess_d,\n",
    "                    \"Similarity\": pct_similarity_d}) \n",
    "## Similarity\n",
    "similar_frequency_df = pd.DataFrame({\"Tesseract\": tesseract_s,\n",
    "                    \"Guess\": best_guess_s,\n",
    "                    \"Similarity\": pct_similarity_s}) "
   ]
  },
  {
   "cell_type": "code",
   "execution_count": 6,
   "metadata": {},
   "outputs": [
    {
     "data": {
      "text/html": [
       "<div>\n",
       "<style scoped>\n",
       "    .dataframe tbody tr th:only-of-type {\n",
       "        vertical-align: middle;\n",
       "    }\n",
       "\n",
       "    .dataframe tbody tr th {\n",
       "        vertical-align: top;\n",
       "    }\n",
       "\n",
       "    .dataframe thead th {\n",
       "        text-align: right;\n",
       "    }\n",
       "</style>\n",
       "<table border=\"1\" class=\"dataframe\">\n",
       "  <thead>\n",
       "    <tr style=\"text-align: right;\">\n",
       "      <th></th>\n",
       "      <th>Tesseract</th>\n",
       "      <th>Guess</th>\n",
       "      <th>Similarity</th>\n",
       "    </tr>\n",
       "  </thead>\n",
       "  <tbody>\n",
       "    <tr>\n",
       "      <th>0</th>\n",
       "      <td>ninth</td>\n",
       "      <td>Ninth</td>\n",
       "      <td>100</td>\n",
       "    </tr>\n",
       "    <tr>\n",
       "      <th>1</th>\n",
       "      <td>bway</td>\n",
       "      <td>Bway</td>\n",
       "      <td>100</td>\n",
       "    </tr>\n",
       "    <tr>\n",
       "      <th>2</th>\n",
       "      <td>av</td>\n",
       "      <td>Av</td>\n",
       "      <td>100</td>\n",
       "    </tr>\n",
       "    <tr>\n",
       "      <th>3</th>\n",
       "      <td>38th</td>\n",
       "      <td>38th</td>\n",
       "      <td>100</td>\n",
       "    </tr>\n",
       "    <tr>\n",
       "      <th>4</th>\n",
       "      <td>houston</td>\n",
       "      <td>Houston</td>\n",
       "      <td>100</td>\n",
       "    </tr>\n",
       "    <tr>\n",
       "      <th>...</th>\n",
       "      <td>...</td>\n",
       "      <td>...</td>\n",
       "      <td>...</td>\n",
       "    </tr>\n",
       "    <tr>\n",
       "      <th>237</th>\n",
       "      <td>seventh</td>\n",
       "      <td>Seventh</td>\n",
       "      <td>100</td>\n",
       "    </tr>\n",
       "    <tr>\n",
       "      <th>238</th>\n",
       "      <td>renwick</td>\n",
       "      <td>Renwick</td>\n",
       "      <td>100</td>\n",
       "    </tr>\n",
       "    <tr>\n",
       "      <th>239</th>\n",
       "      <td>34th</td>\n",
       "      <td>34th</td>\n",
       "      <td>100</td>\n",
       "    </tr>\n",
       "    <tr>\n",
       "      <th>240</th>\n",
       "      <td>third</td>\n",
       "      <td>Third</td>\n",
       "      <td>100</td>\n",
       "    </tr>\n",
       "    <tr>\n",
       "      <th>241</th>\n",
       "      <td>third</td>\n",
       "      <td>Third</td>\n",
       "      <td>100</td>\n",
       "    </tr>\n",
       "  </tbody>\n",
       "</table>\n",
       "<p>242 rows × 3 columns</p>\n",
       "</div>"
      ],
      "text/plain": [
       "    Tesseract    Guess  Similarity\n",
       "0       ninth    Ninth         100\n",
       "1        bway     Bway         100\n",
       "2          av       Av         100\n",
       "3        38th     38th         100\n",
       "4     houston  Houston         100\n",
       "..        ...      ...         ...\n",
       "237   seventh  Seventh         100\n",
       "238   renwick  Renwick         100\n",
       "239      34th     34th         100\n",
       "240     third    Third         100\n",
       "241     third    Third         100\n",
       "\n",
       "[242 rows x 3 columns]"
      ]
     },
     "execution_count": 6,
     "metadata": {},
     "output_type": "execute_result"
    }
   ],
   "source": [
    "similar_frequency_df"
   ]
  },
  {
   "cell_type": "markdown",
   "metadata": {},
   "source": [
    "The histogram suggests that for most replacement tokens, there is little variance in the tokens they replace. When performing swaps at a very high confidence level as measured by the degree of similarity, it is mostly a 1:1 swap. The case where a swap replaces multiple Tesseract tokens does not occur too frequently and rapidly drops off.  \n",
    "There are 804 unique Tesseract tokens in this directory. 600 of them show up less than or equal to 150 times. Some, such as \"w\" and \"av\" show up more than 20,000 times.\n",
    "On the complete dataset, the mean number of unique Tesseract tokens each replacement accounts for is **2.16**. For example, \"Ave\" might be the replacement for \"av\" and \"ave\" only, even we know that \"av\" alone shows up more than 20,000 times.  \n",
    "This implies that Tesseract is consistent in its recognition of text."
   ]
  },
  {
   "cell_type": "code",
   "execution_count": 8,
   "metadata": {},
   "outputs": [
    {
     "name": "stdout",
     "output_type": "stream",
     "text": [
      "1.0\n"
     ]
    },
    {
     "data": {
      "text/plain": [
       "Text(0, 0.5, 'Count')"
      ]
     },
     "execution_count": 8,
     "metadata": {},
     "output_type": "execute_result"
    },
    {
     "data": {
      "image/png": "[encoded data removed]",
      "text/plain": [
       "<Figure size 432x288 with 1 Axes>"
      ]
     },
     "metadata": {
      "needs_background": "light"
     },
     "output_type": "display_data"
    }
   ],
   "source": [
    "similar_frequency_df2 = similar_frequency_df.groupby(\"Guess\", as_index = True).Tesseract.nunique()\n",
    "# similar_frequency_df2\n",
    "print(similar_frequency_df2.mean())\n",
    "plt.hist(similar_frequency_df2)\n",
    "plt.xlabel(\"Number of unique Tesseract tokens per replacement\")\n",
    "plt.ylabel(\"Count\")"
   ]
  },
  {
   "cell_type": "code",
   "execution_count": 9,
   "metadata": {},
   "outputs": [
    {
     "data": {
      "image/png": "[encoded data removed]",
      "text/plain": [
       "<Figure size 432x288 with 1 Axes>"
      ]
     },
     "metadata": {
      "needs_background": "light"
     },
     "output_type": "display_data"
    }
   ],
   "source": [
    "tesseract_frequency = similar_frequency_df.Tesseract.value_counts()\n",
    "plt.hist(tesseract_frequency, 200)\n",
    "plt.xlabel(\"Unique tokens' frequency of appearance\")\n",
    "#plt.show suppresses the annoying array printout\n",
    "plt.show()"
   ]
  },
  {
   "cell_type": "markdown",
   "metadata": {},
   "source": [
    "The scatter plot below plots number of unique Teseract tokens for each replacement token against the mean of the degree to which they are similar. The histogram above suggests that there are many 1:1 unique replacements. However, the degrees of similarities are very much clustered and show little variance as compared to the other replacement tokens. Suprisingly, the mean degree of similarity are rather *uniformly high*. "
   ]
  },
  {
   "cell_type": "code",
   "execution_count": 10,
   "metadata": {},
   "outputs": [
    {
     "data": {
      "text/plain": [
       "Text(0, 0.5, 'Degree similarity (%)')"
      ]
     },
     "execution_count": 10,
     "metadata": {},
     "output_type": "execute_result"
    },
    {
     "data": {
      "image/png": "[encoded data removed]",
      "text/plain": [
       "<Figure size 432x288 with 1 Axes>"
      ]
     },
     "metadata": {
      "needs_background": "light"
     },
     "output_type": "display_data"
    }
   ],
   "source": [
    "## agg fn allows insertion of functions or list of functions which are then returned as multindex cols\n",
    "similar_frequency_df3 = similar_frequency_df.groupby(\"Guess\", as_index = False).agg({\n",
    "    \"Tesseract\": \"nunique\",\n",
    "    \"Similarity\": \"mean\"\n",
    "})\n",
    "plt.scatter(similar_frequency_df3.Tesseract, similar_frequency_df3.Similarity)\n",
    "plt.xlabel(\"Number of unique Tesseract tokens\")\n",
    "plt.ylabel(\"Degree similarity (%)\")"
   ]
  },
  {
   "cell_type": "code",
   "execution_count": 11,
   "metadata": {},
   "outputs": [
    {
     "data": {
      "text/html": [
       "<div>\n",
       "<style scoped>\n",
       "    .dataframe tbody tr th:only-of-type {\n",
       "        vertical-align: middle;\n",
       "    }\n",
       "\n",
       "    .dataframe tbody tr th {\n",
       "        vertical-align: top;\n",
       "    }\n",
       "\n",
       "    .dataframe thead th {\n",
       "        text-align: right;\n",
       "    }\n",
       "</style>\n",
       "<table border=\"1\" class=\"dataframe\">\n",
       "  <thead>\n",
       "    <tr style=\"text-align: right;\">\n",
       "      <th></th>\n",
       "      <th>Guess</th>\n",
       "      <th>Tesseract</th>\n",
       "      <th>Similarity</th>\n",
       "    </tr>\n",
       "  </thead>\n",
       "  <tbody>\n",
       "    <tr>\n",
       "      <th>0</th>\n",
       "      <td>10th</td>\n",
       "      <td>1</td>\n",
       "      <td>100</td>\n",
       "    </tr>\n",
       "    <tr>\n",
       "      <th>1</th>\n",
       "      <td>11th</td>\n",
       "      <td>1</td>\n",
       "      <td>100</td>\n",
       "    </tr>\n",
       "    <tr>\n",
       "      <th>2</th>\n",
       "      <td>13th</td>\n",
       "      <td>1</td>\n",
       "      <td>100</td>\n",
       "    </tr>\n",
       "    <tr>\n",
       "      <th>3</th>\n",
       "      <td>17th</td>\n",
       "      <td>1</td>\n",
       "      <td>100</td>\n",
       "    </tr>\n",
       "    <tr>\n",
       "      <th>4</th>\n",
       "      <td>19th</td>\n",
       "      <td>1</td>\n",
       "      <td>100</td>\n",
       "    </tr>\n",
       "    <tr>\n",
       "      <th>...</th>\n",
       "      <td>...</td>\n",
       "      <td>...</td>\n",
       "      <td>...</td>\n",
       "    </tr>\n",
       "    <tr>\n",
       "      <th>89</th>\n",
       "      <td>Watts</td>\n",
       "      <td>1</td>\n",
       "      <td>100</td>\n",
       "    </tr>\n",
       "    <tr>\n",
       "      <th>90</th>\n",
       "      <td>West</td>\n",
       "      <td>1</td>\n",
       "      <td>100</td>\n",
       "    </tr>\n",
       "    <tr>\n",
       "      <th>91</th>\n",
       "      <td>Willett</td>\n",
       "      <td>1</td>\n",
       "      <td>100</td>\n",
       "    </tr>\n",
       "    <tr>\n",
       "      <th>92</th>\n",
       "      <td>William</td>\n",
       "      <td>1</td>\n",
       "      <td>100</td>\n",
       "    </tr>\n",
       "    <tr>\n",
       "      <th>93</th>\n",
       "      <td>Wooster</td>\n",
       "      <td>1</td>\n",
       "      <td>100</td>\n",
       "    </tr>\n",
       "  </tbody>\n",
       "</table>\n",
       "<p>94 rows × 3 columns</p>\n",
       "</div>"
      ],
      "text/plain": [
       "      Guess  Tesseract  Similarity\n",
       "0      10th          1         100\n",
       "1      11th          1         100\n",
       "2      13th          1         100\n",
       "3      17th          1         100\n",
       "4      19th          1         100\n",
       "..      ...        ...         ...\n",
       "89    Watts          1         100\n",
       "90     West          1         100\n",
       "91  Willett          1         100\n",
       "92  William          1         100\n",
       "93  Wooster          1         100\n",
       "\n",
       "[94 rows x 3 columns]"
      ]
     },
     "execution_count": 11,
     "metadata": {},
     "output_type": "execute_result"
    }
   ],
   "source": [
    "similar_frequency_df3"
   ]
  },
  {
   "cell_type": "markdown",
   "metadata": {},
   "source": [
    "As compared to the highly similar tokens and their replacements, the number of unique Tesseract tokens for each **dissimilar** replacement token has increased dramatically. But at the same time, most Tesseract tokens occur at very low frequencies. That is to say, Tesseract's recognition and rendition of these tokens is inconsistent. This interpretation of the data implies that the master list against which this is compared is exhaustive and correct; as a result, if Tesseract is consistent, there should be less unique tokens, but they should occur more frequently.  \n",
    "On the other hand, it might just be the case that the master list is *non-exhaustive* and does not capture the full variance of street names in NYC at the turn of the 20th century. In this case, the questions becomes, \"How can Tesseract's output be verified?\" "
   ]
  },
  {
   "cell_type": "code",
   "execution_count": 15,
   "metadata": {
    "scrolled": true
   },
   "outputs": [
    {
     "data": {
      "text/plain": [
       "Text(0, 0.5, 'Count')"
      ]
     },
     "execution_count": 15,
     "metadata": {},
     "output_type": "execute_result"
    },
    {
     "data": {
      "image/png": "[encoded data removed]",
      "text/plain": [
       "<Figure size 432x288 with 1 Axes>"
      ]
     },
     "metadata": {
      "needs_background": "light"
     },
     "output_type": "display_data"
    }
   ],
   "source": [
    "dissimilar_frequency_df2 = dissimilar_frequency_df.groupby(\"Guess\", as_index = True).Tesseract.nunique()\n",
    "#dissimilar_frequency_df2\n",
    "#dissimilar_frequency_df2.mean()\n",
    "plt.hist(dissimilar_frequency_df2)\n",
    "plt.xlabel(\"Number of unique Tesseract tokens per replacement\")\n",
    "plt.ylabel(\"Count\")"
   ]
  },
  {
   "cell_type": "code",
   "execution_count": 16,
   "metadata": {},
   "outputs": [
    {
     "data": {
      "image/png": "[encoded data removed]",
      "text/plain": [
       "<Figure size 432x288 with 1 Axes>"
      ]
     },
     "metadata": {
      "needs_background": "light"
     },
     "output_type": "display_data"
    }
   ],
   "source": [
    "tesseract_frequency_dissimilar = dissimilar_frequency_df.Tesseract.value_counts()\n",
    "plt.hist(tesseract_frequency_dissimilar, 100)\n",
    "plt.xlabel(\"Unique tokens' frequency of appearance\")\n",
    "#plt.show suppresses the annoying array printout\n",
    "plt.show()"
   ]
  },
  {
   "cell_type": "code",
   "execution_count": 17,
   "metadata": {},
   "outputs": [
    {
     "data": {
      "text/plain": [
       "Text(0, 0.5, 'Degree similarity (%)')"
      ]
     },
     "execution_count": 17,
     "metadata": {},
     "output_type": "execute_result"
    },
    {
     "data": {
      "image/png": "[encoded data removed]",
      "text/plain": [
       "<Figure size 432x288 with 1 Axes>"
      ]
     },
     "metadata": {
      "needs_background": "light"
     },
     "output_type": "display_data"
    }
   ],
   "source": [
    "## agg fn allows insertion of functions or list of functions which are then returned as multindex cols\n",
    "dissimilar_frequency_df3 = dissimilar_frequency_df.groupby(\"Guess\", as_index = False).agg({\n",
    "    \"Tesseract\": \"nunique\",\n",
    "    \"Similarity\": \"mean\"\n",
    "})\n",
    "plt.scatter(dissimilar_frequency_df3.Tesseract, dissimilar_frequency_df3.Similarity)\n",
    "plt.xlabel(\"Number of unique Tesseract tokens\")\n",
    "plt.ylabel(\"Degree similarity (%)\")"
   ]
  },
  {
   "cell_type": "markdown",
   "metadata": {},
   "source": [
    "Of course, some occur more frequently than others. Examples include \"bway\", \"bklyn\", \"mkt\", and \"gwich\" which we intuitively know to be Broadway, Brooklyn, Market, and Greenwich."
   ]
  },
  {
   "cell_type": "code",
   "execution_count": 18,
   "metadata": {},
   "outputs": [
    {
     "data": {
      "text/html": [
       "<div>\n",
       "<style scoped>\n",
       "    .dataframe tbody tr th:only-of-type {\n",
       "        vertical-align: middle;\n",
       "    }\n",
       "\n",
       "    .dataframe tbody tr th {\n",
       "        vertical-align: top;\n",
       "    }\n",
       "\n",
       "    .dataframe thead th {\n",
       "        text-align: right;\n",
       "    }\n",
       "</style>\n",
       "<table border=\"1\" class=\"dataframe\">\n",
       "  <thead>\n",
       "    <tr style=\"text-align: right;\">\n",
       "      <th></th>\n",
       "      <th>Guess</th>\n",
       "      <th>Similarity</th>\n",
       "    </tr>\n",
       "    <tr>\n",
       "      <th>Tesseract</th>\n",
       "      <th></th>\n",
       "      <th></th>\n",
       "    </tr>\n",
       "  </thead>\n",
       "  <tbody>\n",
       "    <tr>\n",
       "      <th>j</th>\n",
       "      <td>4</td>\n",
       "      <td>4</td>\n",
       "    </tr>\n",
       "    <tr>\n",
       "      <th>bklyn</th>\n",
       "      <td>4</td>\n",
       "      <td>4</td>\n",
       "    </tr>\n",
       "    <tr>\n",
       "      <th>pl</th>\n",
       "      <td>3</td>\n",
       "      <td>3</td>\n",
       "    </tr>\n",
       "    <tr>\n",
       "      <th>a</th>\n",
       "      <td>3</td>\n",
       "      <td>3</td>\n",
       "    </tr>\n",
       "    <tr>\n",
       "      <th>st</th>\n",
       "      <td>2</td>\n",
       "      <td>2</td>\n",
       "    </tr>\n",
       "    <tr>\n",
       "      <th>ek</th>\n",
       "      <td>2</td>\n",
       "      <td>2</td>\n",
       "    </tr>\n",
       "    <tr>\n",
       "      <th>ct</th>\n",
       "      <td>2</td>\n",
       "      <td>2</td>\n",
       "    </tr>\n",
       "    <tr>\n",
       "      <th>c</th>\n",
       "      <td>2</td>\n",
       "      <td>2</td>\n",
       "    </tr>\n",
       "    <tr>\n",
       "      <th>see</th>\n",
       "      <td>2</td>\n",
       "      <td>2</td>\n",
       "    </tr>\n",
       "    <tr>\n",
       "      <th>eb</th>\n",
       "      <td>2</td>\n",
       "      <td>2</td>\n",
       "    </tr>\n",
       "    <tr>\n",
       "      <th>ay</th>\n",
       "      <td>2</td>\n",
       "      <td>2</td>\n",
       "    </tr>\n",
       "    <tr>\n",
       "      <th>ke</th>\n",
       "      <td>2</td>\n",
       "      <td>2</td>\n",
       "    </tr>\n",
       "    <tr>\n",
       "      <th>i</th>\n",
       "      <td>2</td>\n",
       "      <td>2</td>\n",
       "    </tr>\n",
       "    <tr>\n",
       "      <th>m</th>\n",
       "      <td>1</td>\n",
       "      <td>1</td>\n",
       "    </tr>\n",
       "    <tr>\n",
       "      <th>mkt</th>\n",
       "      <td>1</td>\n",
       "      <td>1</td>\n",
       "    </tr>\n",
       "    <tr>\n",
       "      <th>hs</th>\n",
       "      <td>1</td>\n",
       "      <td>1</td>\n",
       "    </tr>\n",
       "    <tr>\n",
       "      <th>hr</th>\n",
       "      <td>1</td>\n",
       "      <td>1</td>\n",
       "    </tr>\n",
       "    <tr>\n",
       "      <th>mundell</th>\n",
       "      <td>1</td>\n",
       "      <td>1</td>\n",
       "    </tr>\n",
       "    <tr>\n",
       "      <th>138th</th>\n",
       "      <td>1</td>\n",
       "      <td>1</td>\n",
       "    </tr>\n",
       "    <tr>\n",
       "      <th>r</th>\n",
       "      <td>1</td>\n",
       "      <td>1</td>\n",
       "    </tr>\n",
       "    <tr>\n",
       "      <th>newcomb</th>\n",
       "      <td>1</td>\n",
       "      <td>1</td>\n",
       "    </tr>\n",
       "    <tr>\n",
       "      <th>h379</th>\n",
       "      <td>1</td>\n",
       "      <td>1</td>\n",
       "    </tr>\n",
       "    <tr>\n",
       "      <th>richardson</th>\n",
       "      <td>1</td>\n",
       "      <td>1</td>\n",
       "    </tr>\n",
       "    <tr>\n",
       "      <th>t</th>\n",
       "      <td>1</td>\n",
       "      <td>1</td>\n",
       "    </tr>\n",
       "    <tr>\n",
       "      <th>tremont</th>\n",
       "      <td>1</td>\n",
       "      <td>1</td>\n",
       "    </tr>\n",
       "    <tr>\n",
       "      <th>var</th>\n",
       "      <td>1</td>\n",
       "      <td>1</td>\n",
       "    </tr>\n",
       "    <tr>\n",
       "      <th>washn</th>\n",
       "      <td>1</td>\n",
       "      <td>1</td>\n",
       "    </tr>\n",
       "    <tr>\n",
       "      <th>way</th>\n",
       "      <td>1</td>\n",
       "      <td>1</td>\n",
       "    </tr>\n",
       "    <tr>\n",
       "      <th>highth</th>\n",
       "      <td>1</td>\n",
       "      <td>1</td>\n",
       "    </tr>\n",
       "    <tr>\n",
       "      <th>g</th>\n",
       "      <td>1</td>\n",
       "      <td>1</td>\n",
       "    </tr>\n",
       "    <tr>\n",
       "      <th>h18</th>\n",
       "      <td>1</td>\n",
       "      <td>1</td>\n",
       "    </tr>\n",
       "    <tr>\n",
       "      <th>cheever</th>\n",
       "      <td>1</td>\n",
       "      <td>1</td>\n",
       "    </tr>\n",
       "    <tr>\n",
       "      <th>23d</th>\n",
       "      <td>1</td>\n",
       "      <td>1</td>\n",
       "    </tr>\n",
       "    <tr>\n",
       "      <th>32d</th>\n",
       "      <td>1</td>\n",
       "      <td>1</td>\n",
       "    </tr>\n",
       "    <tr>\n",
       "      <th>33d</th>\n",
       "      <td>1</td>\n",
       "      <td>1</td>\n",
       "    </tr>\n",
       "    <tr>\n",
       "      <th>62d</th>\n",
       "      <td>1</td>\n",
       "      <td>1</td>\n",
       "    </tr>\n",
       "    <tr>\n",
       "      <th>88th</th>\n",
       "      <td>1</td>\n",
       "      <td>1</td>\n",
       "    </tr>\n",
       "    <tr>\n",
       "      <th>b</th>\n",
       "      <td>1</td>\n",
       "      <td>1</td>\n",
       "    </tr>\n",
       "    <tr>\n",
       "      <th>baltic</th>\n",
       "      <td>1</td>\n",
       "      <td>1</td>\n",
       "    </tr>\n",
       "    <tr>\n",
       "      <th>bwa</th>\n",
       "      <td>1</td>\n",
       "      <td>1</td>\n",
       "    </tr>\n",
       "    <tr>\n",
       "      <th>d</th>\n",
       "      <td>1</td>\n",
       "      <td>1</td>\n",
       "    </tr>\n",
       "    <tr>\n",
       "      <th>h</th>\n",
       "      <td>1</td>\n",
       "      <td>1</td>\n",
       "    </tr>\n",
       "    <tr>\n",
       "      <th>dugan</th>\n",
       "      <td>1</td>\n",
       "      <td>1</td>\n",
       "    </tr>\n",
       "    <tr>\n",
       "      <th>emg</th>\n",
       "      <td>1</td>\n",
       "      <td>1</td>\n",
       "    </tr>\n",
       "    <tr>\n",
       "      <th>england</th>\n",
       "      <td>1</td>\n",
       "      <td>1</td>\n",
       "    </tr>\n",
       "    <tr>\n",
       "      <th>ewt</th>\n",
       "      <td>1</td>\n",
       "      <td>1</td>\n",
       "    </tr>\n",
       "    <tr>\n",
       "      <th>fifck</th>\n",
       "      <td>1</td>\n",
       "      <td>1</td>\n",
       "    </tr>\n",
       "    <tr>\n",
       "      <th>frederick</th>\n",
       "      <td>1</td>\n",
       "      <td>1</td>\n",
       "    </tr>\n",
       "    <tr>\n",
       "      <th>22d</th>\n",
       "      <td>1</td>\n",
       "      <td>1</td>\n",
       "    </tr>\n",
       "    <tr>\n",
       "      <th>greenpoint</th>\n",
       "      <td>1</td>\n",
       "      <td>1</td>\n",
       "    </tr>\n",
       "    <tr>\n",
       "      <th>westchester</th>\n",
       "      <td>1</td>\n",
       "      <td>1</td>\n",
       "    </tr>\n",
       "  </tbody>\n",
       "</table>\n",
       "</div>"
      ],
      "text/plain": [
       "             Guess  Similarity\n",
       "Tesseract                     \n",
       "j                4           4\n",
       "bklyn            4           4\n",
       "pl               3           3\n",
       "a                3           3\n",
       "st               2           2\n",
       "ek               2           2\n",
       "ct               2           2\n",
       "c                2           2\n",
       "see              2           2\n",
       "eb               2           2\n",
       "ay               2           2\n",
       "ke               2           2\n",
       "i                2           2\n",
       "m                1           1\n",
       "mkt              1           1\n",
       "hs               1           1\n",
       "hr               1           1\n",
       "mundell          1           1\n",
       "138th            1           1\n",
       "r                1           1\n",
       "newcomb          1           1\n",
       "h379             1           1\n",
       "richardson       1           1\n",
       "t                1           1\n",
       "tremont          1           1\n",
       "var              1           1\n",
       "washn            1           1\n",
       "way              1           1\n",
       "highth           1           1\n",
       "g                1           1\n",
       "h18              1           1\n",
       "cheever          1           1\n",
       "23d              1           1\n",
       "32d              1           1\n",
       "33d              1           1\n",
       "62d              1           1\n",
       "88th             1           1\n",
       "b                1           1\n",
       "baltic           1           1\n",
       "bwa              1           1\n",
       "d                1           1\n",
       "h                1           1\n",
       "dugan            1           1\n",
       "emg              1           1\n",
       "england          1           1\n",
       "ewt              1           1\n",
       "fifck            1           1\n",
       "frederick        1           1\n",
       "22d              1           1\n",
       "greenpoint       1           1\n",
       "westchester      1           1"
      ]
     },
     "execution_count": 18,
     "metadata": {},
     "output_type": "execute_result"
    }
   ],
   "source": [
    "dissimilar_frequency_df.groupby(\"Tesseract\").count().sort_values(by=\"Guess\", ascending=False)"
   ]
  },
  {
   "cell_type": "markdown",
   "metadata": {},
   "source": [
    "#### Symspell\n",
    "This is an alternative to fuzzy matching that should be faster. Like fuzzy matching, it matches entries with known values from an imported dictionary that is streetnames text file. Like fuzzy matching, it is a form of character embedding.\n",
    "Unlike fuzzy matching, the metric of concern here is the number of edits required to make a match. In this case, we have set the maximum number of edits to be 5."
   ]
  },
  {
   "cell_type": "code",
   "execution_count": 22,
   "metadata": {},
   "outputs": [],
   "source": [
    "# Adding to the dictionary\n",
    "sym_spell = SymSpell(max_dictionary_edit_distance=5)\n",
    "sym_spell.create_dictionary(street_names_txt)\n",
    "# print(sym_spell.words)\n",
    "\n",
    "# Creating a vector of tokens\n",
    "## Sample\n",
    "locations_vec = locations_tsv_trunc.token_re.tolist()\n",
    "## Population\n",
    "#locations_vec = locations_tsv.token_re.tolist()\n",
    "\n",
    "def replacement(tokens):\n",
    "\n",
    "    # Creating lists to populate\n",
    "    num_edits = []\n",
    "    distance = []\n",
    "    replacement = []\n",
    "    \n",
    "    # Starting replacement\n",
    "    for token in tokens:\n",
    "        suggestion = sym_spell.lookup(token, Verbosity.TOP, max_edit_distance = 5, include_unknown = True)\n",
    "        \n",
    "        for suggestions in suggestion:\n",
    "            suggestitem = str(suggestions)\n",
    "            suggestitem = suggestitem.split(\",\")\n",
    "            replacement.append(suggestitem[0])\n",
    "            num_edits.append(suggestitem[1])\n",
    "            distance.append(suggestitem[2])\n",
    "    \n",
    "    # Creating a replacement df\n",
    "    replacement_df = pd.DataFrame({\"Tesseract\": tokens,\n",
    "                    \"Guess\": replacement,\n",
    "                    \"Edits\": num_edits,               \n",
    "                    \"Similarity\": distance})\n",
    "    return replacement_df\n"
   ]
  },
  {
   "cell_type": "code",
   "execution_count": 23,
   "metadata": {},
   "outputs": [
    {
     "name": "stdout",
     "output_type": "stream",
     "text": [
      "0.22062129999994795\n"
     ]
    }
   ],
   "source": [
    "start = timer()\n",
    "replacement_df = replacement(locations_vec)\n",
    "end = timer()\n",
    "print(end - start)"
   ]
  },
  {
   "cell_type": "markdown",
   "metadata": {},
   "source": [
    "But looking at this, some things do not make sense. For example, why is the similarity 6 when number of edits = 0? Or, why is the similarity the same for tokens that were edited and those that were not? "
   ]
  },
  {
   "cell_type": "code",
   "execution_count": 24,
   "metadata": {
    "scrolled": false
   },
   "outputs": [
    {
     "data": {
      "text/html": [
       "<div>\n",
       "<style scoped>\n",
       "    .dataframe tbody tr th:only-of-type {\n",
       "        vertical-align: middle;\n",
       "    }\n",
       "\n",
       "    .dataframe tbody tr th {\n",
       "        vertical-align: top;\n",
       "    }\n",
       "\n",
       "    .dataframe thead th {\n",
       "        text-align: right;\n",
       "    }\n",
       "</style>\n",
       "<table border=\"1\" class=\"dataframe\">\n",
       "  <thead>\n",
       "    <tr style=\"text-align: right;\">\n",
       "      <th></th>\n",
       "      <th>Tesseract</th>\n",
       "      <th>Guess</th>\n",
       "      <th>Edits</th>\n",
       "      <th>Similarity</th>\n",
       "    </tr>\n",
       "  </thead>\n",
       "  <tbody>\n",
       "    <tr>\n",
       "      <th>249</th>\n",
       "      <td>47th</td>\n",
       "      <td>47th</td>\n",
       "      <td>0</td>\n",
       "      <td>1</td>\n",
       "    </tr>\n",
       "    <tr>\n",
       "      <th>335</th>\n",
       "      <td>e</td>\n",
       "      <td>e</td>\n",
       "      <td>0</td>\n",
       "      <td>1</td>\n",
       "    </tr>\n",
       "    <tr>\n",
       "      <th>333</th>\n",
       "      <td>e</td>\n",
       "      <td>e</td>\n",
       "      <td>0</td>\n",
       "      <td>1</td>\n",
       "    </tr>\n",
       "    <tr>\n",
       "      <th>332</th>\n",
       "      <td>269</td>\n",
       "      <td>26th</td>\n",
       "      <td>2</td>\n",
       "      <td>1</td>\n",
       "    </tr>\n",
       "    <tr>\n",
       "      <th>331</th>\n",
       "      <td>470</td>\n",
       "      <td>47th</td>\n",
       "      <td>2</td>\n",
       "      <td>1</td>\n",
       "    </tr>\n",
       "    <tr>\n",
       "      <th>...</th>\n",
       "      <td>...</td>\n",
       "      <td>...</td>\n",
       "      <td>...</td>\n",
       "      <td>...</td>\n",
       "    </tr>\n",
       "    <tr>\n",
       "      <th>205</th>\n",
       "      <td>first</td>\n",
       "      <td>first</td>\n",
       "      <td>0</td>\n",
       "      <td>6</td>\n",
       "    </tr>\n",
       "    <tr>\n",
       "      <th>460</th>\n",
       "      <td>seventh</td>\n",
       "      <td>seventh</td>\n",
       "      <td>0</td>\n",
       "      <td>6</td>\n",
       "    </tr>\n",
       "    <tr>\n",
       "      <th>164</th>\n",
       "      <td>seventh</td>\n",
       "      <td>seventh</td>\n",
       "      <td>0</td>\n",
       "      <td>6</td>\n",
       "    </tr>\n",
       "    <tr>\n",
       "      <th>0</th>\n",
       "      <td>ninth</td>\n",
       "      <td>ninth</td>\n",
       "      <td>0</td>\n",
       "      <td>6</td>\n",
       "    </tr>\n",
       "    <tr>\n",
       "      <th>95</th>\n",
       "      <td>fifck</td>\n",
       "      <td>fifty</td>\n",
       "      <td>2</td>\n",
       "      <td>9</td>\n",
       "    </tr>\n",
       "  </tbody>\n",
       "</table>\n",
       "<p>500 rows × 4 columns</p>\n",
       "</div>"
      ],
      "text/plain": [
       "    Tesseract    Guess Edits Similarity\n",
       "249      47th     47th     0          1\n",
       "335         e        e     0          1\n",
       "333         e        e     0          1\n",
       "332       269     26th     2          1\n",
       "331       470     47th     2          1\n",
       "..        ...      ...   ...        ...\n",
       "205     first    first     0          6\n",
       "460   seventh  seventh     0          6\n",
       "164   seventh  seventh     0          6\n",
       "0       ninth    ninth     0          6\n",
       "95      fifck    fifty     2          9\n",
       "\n",
       "[500 rows x 4 columns]"
      ]
     },
     "execution_count": 24,
     "metadata": {},
     "output_type": "execute_result"
    }
   ],
   "source": [
    "replacement_df.sort_values(by = \"Similarity\", ascending = True)"
   ]
  },
  {
   "cell_type": "markdown",
   "metadata": {},
   "source": [
    "#### chars2vec\n",
    "\n",
    "https://medium.com/hackernoon/chars2vec-character-based-language-model-for-handling-real-world-texts-with-spelling-errors-and-a3e4053a147d"
   ]
  },
  {
   "cell_type": "markdown",
   "metadata": {},
   "source": [
    "This is a good way to visualize but I am not sure what we can achieve with this."
   ]
  },
  {
   "cell_type": "code",
   "execution_count": 28,
   "metadata": {},
   "outputs": [
    {
     "data": {
      "image/png": "[encoded data removed]",
      "text/plain": [
       "<Figure size 576x432 with 1 Axes>"
      ]
     },
     "metadata": {
      "needs_background": "light"
     },
     "output_type": "display_data"
    }
   ],
   "source": [
    "import chars2vec\n",
    "import sklearn.decomposition\n",
    "\n",
    "# Load model\n",
    "c2v_model = chars2vec.load_model('eng_300')\n",
    "\n",
    "# Streetnames\n",
    "locations = []\n",
    "locations.extend(street_names_txt)\n",
    "## Population\n",
    "#locations_vec = locations_tsv.token_re.tolist()\n",
    "\n",
    "\n",
    "# Create word embeddings based on a list of location tokens\n",
    "embeddings = c2v_model.vectorize_words(locations_vec)\n",
    "\n",
    "# Project embeddings on plane using PCA\n",
    "projection_2d = sklearn.decomposition.PCA(n_components=2).fit_transform(embeddings)\n",
    "\n",
    "# Plot\n",
    "f = plt.figure(figsize=(8, 6))\n",
    "for j in range(len(projection_2d)):\n",
    "    plt.scatter(projection_2d[j, 0], projection_2d[j, 1],\n",
    "                marker=('$' + locations_vec[j] + '$'),\n",
    "                s=100 * len(locations_vec[j]), label=j,\n",
    "                facecolors='green' if locations_vec[j] \n",
    "                           in street_names_txt else 'black')\n"
   ]
  },
  {
   "cell_type": "markdown",
   "metadata": {},
   "source": [
    "### Occupations"
   ]
  },
  {
   "cell_type": "code",
   "execution_count": null,
   "metadata": {},
   "outputs": [],
   "source": [
    "print((occupations_tsv.token.nunique()))\n",
    "occupations_tsv.head(n = 20)"
   ]
  },
  {
   "cell_type": "markdown",
   "metadata": {},
   "source": [
    "Some pre-processing here:  \n",
    "1) Removed punctuation"
   ]
  },
  {
   "cell_type": "code",
   "execution_count": null,
   "metadata": {},
   "outputs": [],
   "source": [
    "# function remove punctuation; converts plural to singular; removing single-lettered entries; remove names; remove completely capitalized nouns \n",
    "def clean_token(token):\n",
    "    token = str(token)\n",
    "    # check for names\n",
    "    title_case = token.istitle()\n",
    "    if title_case is True:\n",
    "        token = \"\"\n",
    "        return token\n",
    "    else:\n",
    "        # check and correct for punctuation\n",
    "        token = ''.join(t for t in token if t.isalnum())\n",
    "        # check for numbers\n",
    "        numeral = token.isdigit()\n",
    "        if numeral is True:\n",
    "            token = \"\"\n",
    "            return token\n",
    "        # remove single entries\n",
    "        if len(token) == 1: \n",
    "            token = \"\"\n",
    "            return token\n",
    "        # remove completely capitalized words because they might be from adverts\n",
    "        caps = token.isupper()\n",
    "        if caps is True:\n",
    "            token = \"\"\n",
    "            return token\n",
    "        # check and stems plural nouns\n",
    "        elif token.endswith(\"s\"):\n",
    "            token = token.rstrip(\"s\")\n",
    "            return token\n",
    "        else:\n",
    "            return token\n",
    "\n",
    "# apply to column and create new column\n",
    "occupations_tsv_working_copy = occupations_tsv\n",
    "occupations_tsv_working_copy[\"token_re\"] = occupations_tsv_working_copy[\"token\"].apply(clean_token)\n",
    "\n",
    "# drop rows with just whitespace\n",
    "occupations_tsv_working_copy = occupations_tsv_working_copy.drop(occupations_tsv_working_copy[(occupations_tsv_working_copy.token_re == '')].index)\n",
    "\n",
    "occupations_freq = occupations_tsv_working_copy[\"token_re\"].value_counts()"
   ]
  },
  {
   "cell_type": "code",
   "execution_count": null,
   "metadata": {},
   "outputs": [],
   "source": [
    "occupations_freq.head(n = 60)"
   ]
  },
  {
   "cell_type": "code",
   "execution_count": null,
   "metadata": {},
   "outputs": [],
   "source": [
    "occupations_freq.sum()"
   ]
  },
  {
   "cell_type": "markdown",
   "metadata": {},
   "source": [
    "Assuming that Tesseract makes text recognition errors systematically and randomly, it can therefore be expected that variations of the same word is scattered throughout the dataset. Hence, less frequently occuring words can be matched to more frequently occurring one repeatedly until it coalesces to a more \"correct\" list. "
   ]
  },
  {
   "cell_type": "code",
   "execution_count": null,
   "metadata": {},
   "outputs": [],
   "source": [
    "occupations_freq_df = pd.DataFrame(occupations_tsv_working_copy.groupby(\"token_re\", \n",
    "                                                                        as_index = False)[\"token\"].count()).sort_values(by = \"token\",\n",
    "                                                                                                                        ascending = False).reset_index(drop = True)"
   ]
  },
  {
   "cell_type": "code",
   "execution_count": null,
   "metadata": {},
   "outputs": [],
   "source": [
    "# Take each quartiles and compare similarities\n",
    "q1 = int(len(occupations_freq_df)/4)\n",
    "occupations_freq_q4 = occupations_freq_df.tail(n = q1)\n",
    "occupations_freq_q3 = occupations_freq_df.iloc[2*q1:3*q1,]\n",
    "occupations_freq_q1 = occupations_freq_df.iloc[:q1, ]\n",
    "occupations_freq_q234 = occupations_freq_df.iloc[q1:,]\n",
    "\n",
    "# Reuse the fuzzy_match function from before\n",
    "# Create lists for similar and dissimilar tokens\n",
    "choices = occupations_freq_q1.token_re.tolist()\n",
    "occ_tesseract_s = []\n",
    "occ_pct_similarity_s = []\n",
    "occ_best_guess_s = []\n",
    "occ_tesseract_d = []\n",
    "occ_pct_similarity_d = []\n",
    "occ_best_guess_d = []\n",
    "occ_overall_similarity = []\n",
    "#def fuzzy_match(x, choices=master_street_names, scorer=fuzz.token_sort_ratio, \n",
    "#                tesseract_s = tesseract_s, pct_similarity_s = pct_similarity_s, best_guess_s = best_guess_s,\n",
    "#                tesseract_d = tesseract_d, pct_similarity_d = pct_similarity_d, best_guess_d = best_guess_d)\n",
    "\n",
    "occupations_freq_q234.loc[\"token_replaced\"] = occupations_freq_q234[\"token_re\"].apply(\n",
    "    fuzzy_match,\n",
    "    args = (choices,\n",
    "            fuzz.token_sort_ratio,\n",
    "            90,\n",
    "            occ_tesseract_s,\n",
    "            occ_pct_similarity_s,\n",
    "            occ_best_guess_s,\n",
    "            occ_tesseract_d,\n",
    "            occ_pct_similarity_d,\n",
    "            occ_best_guess_d)\n",
    ")\n",
    "\n",
    "# Put the lists from replacement fn above into a df\n",
    "## Dissimilarity\n",
    "occ_dissimilar_frequency_df_q234vq1 = pd.DataFrame({\"Tesseract\": occ_tesseract_d,\n",
    "                    \"Guess\": occ_best_guess_d,\n",
    "                    \"Similarity\": occ_pct_similarity_d}) \n",
    "## Similarity\n",
    "occ_similar_frequency_df_q234vq1 = pd.DataFrame({\"Tesseract\": occ_tesseract_s,\n",
    "                    \"Guess\": occ_best_guess_s,\n",
    "                    \"Similarity\": occ_pct_similarity_s}) "
   ]
  },
  {
   "cell_type": "code",
   "execution_count": null,
   "metadata": {},
   "outputs": [],
   "source": [
    "occupations_freq_q1.token.sum()"
   ]
  },
  {
   "cell_type": "markdown",
   "metadata": {},
   "source": [
    "First round of fuzzy matching with the first quartile used as a basis of comparison. "
   ]
  },
  {
   "cell_type": "code",
   "execution_count": null,
   "metadata": {},
   "outputs": [],
   "source": [
    "## Similarity distribution\n",
    "occ_overall_similarity = pd.concat([occ_dissimilar_frequency_df_q234vq1, occ_similar_frequency_df_q234vq1])"
   ]
  },
  {
   "cell_type": "code",
   "execution_count": null,
   "metadata": {},
   "outputs": [],
   "source": [
    "occ_overall_similarity.extend(occ_pct_similarity_d)\n",
    "occ_overall_similarity = np.array(occ_overall_similarity)\n",
    "#occ_overall_similarity = pd.DataFrame(occ_overall_similarity.append(occ_pct_similarity_s))"
   ]
  },
  {
   "cell_type": "code",
   "execution_count": null,
   "metadata": {},
   "outputs": [],
   "source": [
    "occ_overall_similarity.shape"
   ]
  },
  {
   "cell_type": "code",
   "execution_count": null,
   "metadata": {},
   "outputs": [],
   "source": [
    "plt.hist(occ_overall_similarity.Similarity, bins = 20)\n",
    "plt.show()"
   ]
  },
  {
   "cell_type": "markdown",
   "metadata": {},
   "source": [
    "Second round of fuzzy matching: The basis of comparison are the ones that were successfully matched. This enables mapping onto the first quartile."
   ]
  },
  {
   "cell_type": "code",
   "execution_count": null,
   "metadata": {},
   "outputs": [],
   "source": [
    "choices = occ_similar_frequency_df_q234vq1.Tesseract.tolist()\n",
    "occ_tesseract_s = []\n",
    "occ_pct_similarity_s = []\n",
    "occ_best_guess_s = []\n",
    "occ_tesseract_d = []\n",
    "occ_pct_similarity_d = []\n",
    "occ_best_guess_d = []\n",
    "occ_dissimilar_frequency_df_q234vq1.loc[\"Guess2\"] = occ_dissimilar_frequency_df_q234vq1[\"Tesseract\"].apply(\n",
    "    fuzzy_match,\n",
    "    args = (choices,\n",
    "            fuzz.token_sort_ratio,\n",
    "            80,\n",
    "            occ_tesseract_s,\n",
    "            occ_pct_similarity_s,\n",
    "            occ_best_guess_s,\n",
    "            occ_tesseract_d,\n",
    "            occ_pct_similarity_d,\n",
    "            occ_best_guess_d)\n",
    ")\n",
    "# Put the lists from replacement fn above into a df\n",
    "## Dissimilarity\n",
    "occ_q234_remainder_dissimilar_frequency_df = pd.DataFrame({\"Tesseract\": occ_tesseract_d,\n",
    "                    \"Guess\": occ_best_guess_d,\n",
    "                    \"Similarity\": occ_pct_similarity_d}) \n",
    "## Similarity\n",
    "occ_q234_remainder_similar_frequency_df = pd.DataFrame({\"Tesseract\": occ_tesseract_s,\n",
    "                    \"Guess\": occ_best_guess_s,\n",
    "                    \"Similarity\": occ_pct_similarity_s})"
   ]
  },
  {
   "cell_type": "code",
   "execution_count": null,
   "metadata": {},
   "outputs": [],
   "source": [
    "occ_q234_remainder_similar_frequency_df.iloc[620:680,]"
   ]
  },
  {
   "cell_type": "code",
   "execution_count": null,
   "metadata": {
    "scrolled": true
   },
   "outputs": [],
   "source": [
    "occ_q234_remainder_similar_frequency_df.Tesseract.value_counts().sort_values(ascending = False)"
   ]
  },
  {
   "cell_type": "code",
   "execution_count": null,
   "metadata": {},
   "outputs": [],
   "source": [
    "occ_q234_remainder_similar_frequency_df.Guess.value_counts().sort_values(ascending = False)"
   ]
  },
  {
   "cell_type": "code",
   "execution_count": null,
   "metadata": {},
   "outputs": [],
   "source": [
    "occ_q234_remainder_dissimilar_frequency_df.Tesseract.value_counts().sort_values(ascending = False)"
   ]
  },
  {
   "cell_type": "markdown",
   "metadata": {},
   "source": [
    "Sorted by frequency of occurrence, 12% of the tokens in the bottom 75% can be mapped with a high level of confidence to those in the first quartile.   "
   ]
  },
  {
   "cell_type": "code",
   "execution_count": null,
   "metadata": {},
   "outputs": [],
   "source": [
    "occ_similar_frequency_df_q234vq1.Tesseract.value_counts().sort_values(ascending = False)"
   ]
  },
  {
   "cell_type": "code",
   "execution_count": null,
   "metadata": {},
   "outputs": [],
   "source": [
    "occ_similar_frequency_df_q234vq1.sort_values(by = 'Similarity')"
   ]
  },
  {
   "cell_type": "code",
   "execution_count": null,
   "metadata": {},
   "outputs": [],
   "source": [
    "occ_similar_frequency_df_q234vq1.Guess.value_counts()"
   ]
  },
  {
   "cell_type": "code",
   "execution_count": null,
   "metadata": {},
   "outputs": [],
   "source": [
    "# this suggests that there is great variance in Tesseract's text recognition\n",
    "occ_similar_frequency_df_q234vq1.Tesseract.value_counts().sort_values(ascending = False).head(n = 50)"
   ]
  },
  {
   "cell_type": "code",
   "execution_count": null,
   "metadata": {},
   "outputs": [],
   "source": [
    "occ_similar_frequency_df2_q234vq1 = occ_similar_frequency_df_q234vq1.groupby(\"Guess\", as_index = True).Tesseract.nunique()\n",
    "plt.hist(occ_similar_frequency_df2_q234vq1, 35)\n",
    "plt.xlabel(\"Number of unique Tesseract tokens per replacement\")\n",
    "plt.ylabel(\"Count\")"
   ]
  },
  {
   "cell_type": "code",
   "execution_count": null,
   "metadata": {},
   "outputs": [],
   "source": [
    "occ_dissimilar_frequency_df_q234vq1.Guess.value_counts().head(n = 50)"
   ]
  },
  {
   "cell_type": "code",
   "execution_count": null,
   "metadata": {},
   "outputs": [],
   "source": [
    "occ_dissimilar_frequency_df_q234vq1.Tesseract.value_counts()"
   ]
  },
  {
   "cell_type": "code",
   "execution_count": null,
   "metadata": {},
   "outputs": [],
   "source": [
    "occ_similar_frequency_df_q4vq1.sort_values(by = 'Similarity')"
   ]
  },
  {
   "cell_type": "code",
   "execution_count": null,
   "metadata": {},
   "outputs": [],
   "source": [
    "occ_dissimilar_frequency_df_q4vq1.sort_values(by=\"Similarity\", ascending = False)"
   ]
  },
  {
   "cell_type": "code",
   "execution_count": null,
   "metadata": {},
   "outputs": [],
   "source": [
    "occ_dissimilar_frequency_df_q4vq1.Guess.value_counts().head(n = 50)"
   ]
  },
  {
   "cell_type": "markdown",
   "metadata": {},
   "source": [
    "As with the addresses, most Q3 replacements only have one corresponding Q4 token. Further, all of these tokens are unique. Previously, *dissimilarity* with addresses was positively correlated with higher variance in Tesseract's recognition of the same \"correct\" token. Likewise, this has occurred here where less frequently occurring tokens are part of Tesseract's recognition error.    "
   ]
  },
  {
   "cell_type": "code",
   "execution_count": null,
   "metadata": {},
   "outputs": [],
   "source": [
    "occ_similar_frequency_df2_q4vq1 = occ_similar_frequency_df_q4vq1.groupby(\"Guess\", as_index = True).Tesseract.nunique()\n",
    "plt.hist(occ_similar_frequency_df2_q4vq1)\n",
    "plt.xlabel(\"Number of unique Tesseract tokens per replacement\")\n",
    "plt.ylabel(\"Count\")"
   ]
  },
  {
   "cell_type": "code",
   "execution_count": null,
   "metadata": {},
   "outputs": [],
   "source": [
    "occ_tesseract_frequency = occ_similar_frequency_df.Tesseract.value_counts()\n",
    "plt.hist(occ_tesseract_frequency)\n",
    "plt.xlabel(\"Unique tokens' frequency of appearance\")\n",
    "#plt.show suppresses the annoying array printout\n",
    "plt.show()"
   ]
  },
  {
   "cell_type": "code",
   "execution_count": null,
   "metadata": {},
   "outputs": [],
   "source": [
    "occ_dissimilar_frequency_df.sort_values(by = \"Similarity\", ascending = False)"
   ]
  },
  {
   "cell_type": "code",
   "execution_count": null,
   "metadata": {},
   "outputs": [],
   "source": [
    "int(len(occupations_freq_df)/4)\n",
    "len(occupations_freq_q4)\n",
    "choices = occupations_freq_q3.token_re.tolist()\n",
    "choices"
   ]
  },
  {
   "cell_type": "markdown",
   "metadata": {},
   "source": [
    "### Subjects/Names"
   ]
  },
  {
   "cell_type": "code",
   "execution_count": null,
   "metadata": {},
   "outputs": [],
   "source": [
    "print(subjects_tsv.entry_uuid.nunique())\n",
    "subjects_tsv.head(n = 20)"
   ]
  },
  {
   "cell_type": "markdown",
   "metadata": {},
   "source": [
    "## Discarded | Obsolete Code"
   ]
  },
  {
   "cell_type": "markdown",
   "metadata": {},
   "source": [
    "Initially, I thought that we might be able to correct some of the spelling errors presented by Tesseract. To test this, I applied this to a sample of occupations given that occupations are more likely to be found in a proper English dictionary than street and human names. However, the results are extremely poor due to the abbrieviations and Tesseract-errors. Furthermore, some words such as `segars` are the antiquated form of modern words such as `cigars` which the module does not pick up on. Instead, it suggests `sugars`, which is not technically wrong from a word-matching and spell-check standpoint. "
   ]
  },
  {
   "cell_type": "code",
   "execution_count": null,
   "metadata": {},
   "outputs": [],
   "source": [
    "# https://www.clips.uantwerpen.be/pages/pattern-en#spelling\n",
    "# https://rustyonrampage.github.io/text-mining/2017/11/28/spelling-correction-with-python-and-nltk.html\n",
    "# https://www.nltk.org/\n",
    "\n",
    "\"\"\"\"\n",
    "from pattern.en import suggest\n",
    "\n",
    "#occupations sample\n",
    "occupations_sample = occupations_freq_res.loc[:, [\"original\"]].sample(n = 100)\n",
    "occupations_freq_res = occupations_freq.reset_index()\n",
    "occupations_freq_res = occupations_freq_res.rename(columns = {\"index\": \"original\"})\n",
    "occupations_freq_res = occupations_freq_res.astype({\"original\": str})\n",
    "\n",
    "# spellcheck function with suggest\n",
    "def spellcheck(token):\n",
    "    digit_check = token.isdigit()\n",
    "    if digit_check is True:\n",
    "        return token\n",
    "    else:\n",
    "        checked = suggest(token)\n",
    "        return checked\n",
    "    \n",
    "# Apply to sample\n",
    "occupations_sample[\"corrected\"] = occupations_sample[\"original\"].apply(spellcheck)\n",
    "\n",
    "# Glimpse into result\n",
    "occupations_sample.head(n = 60)\n",
    "\"\"\"\""
   ]
  },
  {
   "cell_type": "markdown",
   "metadata": {},
   "source": [
    "[Link](https://stackoverflow.com/questions/40712178/reading-the-json-file-with-multiple-objects-in-python) to help with decoding this particular JSON object. Multiple JSON object within one."
   ]
  },
  {
   "cell_type": "code",
   "execution_count": null,
   "metadata": {},
   "outputs": [],
   "source": [
    "# Opens the file and saves it to a pandas df\n",
    "##with open(path + test_json) as f:\n",
    "##    df = pd.read_json(f, lines=True)"
   ]
  },
  {
   "cell_type": "code",
   "execution_count": null,
   "metadata": {},
   "outputs": [],
   "source": [
    "# Quick look into the JSON table to check\n",
    "##df.tail()"
   ]
  },
  {
   "cell_type": "code",
   "execution_count": null,
   "metadata": {},
   "outputs": [],
   "source": [
    "# Manual uniqueness check\n",
    "##line_number = np.array(df.original_hocr_line_number)\n",
    "##unique_elements, counts_elements = np.unique(line_number, return_counts=True)\n",
    "##print(\"Frequency of unique values of the said array:\")\n",
    "##print(np.asarray((unique_elements, counts_elements)))"
   ]
  },
  {
   "cell_type": "markdown",
   "metadata": {},
   "source": [
    "Labels \"a\", \"h\", and \"r\" represent the relative addresses, and address types such as houses, and rear."
   ]
  },
  {
   "cell_type": "code",
   "execution_count": null,
   "metadata": {},
   "outputs": [],
   "source": [
    "# Quick glimpse of how the last column might actually look like\n",
    "## df.iloc[124,-1]"
   ]
  },
  {
   "cell_type": "code",
   "execution_count": null,
   "metadata": {},
   "outputs": [],
   "source": [
    "##df.iloc[110,-1]"
   ]
  },
  {
   "cell_type": "code",
   "execution_count": null,
   "metadata": {},
   "outputs": [],
   "source": [
    "##df.iloc[10,-1]"
   ]
  },
  {
   "cell_type": "code",
   "execution_count": null,
   "metadata": {},
   "outputs": [],
   "source": [
    "##df.iloc[4,-1]"
   ]
  },
  {
   "cell_type": "code",
   "execution_count": null,
   "metadata": {},
   "outputs": [],
   "source": [
    "##df.iloc[147, -1]"
   ]
  },
  {
   "cell_type": "code",
   "execution_count": null,
   "metadata": {},
   "outputs": [],
   "source": [
    "##df_labeled_entry = df.labeled_entry.apply(pd.Series)\n",
    "##df_locations = df_labeled_entry[\"locations\"]\n",
    "##df_locations = pd.concat([df_locations, df.original_hocr_line_number], axis = 1)"
   ]
  },
  {
   "cell_type": "code",
   "execution_count": null,
   "metadata": {},
   "outputs": [],
   "source": [
    "##df_locations"
   ]
  },
  {
   "cell_type": "code",
   "execution_count": null,
   "metadata": {},
   "outputs": [],
   "source": [
    "##df_locations.iloc[147,:]"
   ]
  },
  {
   "cell_type": "code",
   "execution_count": null,
   "metadata": {},
   "outputs": [],
   "source": [
    "##type(df_locations.iloc[147,0])"
   ]
  },
  {
   "cell_type": "code",
   "execution_count": null,
   "metadata": {},
   "outputs": [],
   "source": [
    "##type(df_locations.iloc[147,0][1])"
   ]
  },
  {
   "cell_type": "code",
   "execution_count": null,
   "metadata": {},
   "outputs": [],
   "source": [
    "##df_locations.iloc[147][0]"
   ]
  },
  {
   "cell_type": "markdown",
   "metadata": {},
   "source": [
    "In other words, each labeled entry's location is stored as a list of _n_ dictionaries with two key-value pairs of `value` and `labels`."
   ]
  },
  {
   "cell_type": "code",
   "execution_count": null,
   "metadata": {},
   "outputs": [],
   "source": [
    "##df_locations.iloc[3][0]"
   ]
  },
  {
   "cell_type": "code",
   "execution_count": null,
   "metadata": {},
   "outputs": [],
   "source": [
    "##type(df_locations)"
   ]
  },
  {
   "cell_type": "code",
   "execution_count": null,
   "metadata": {},
   "outputs": [],
   "source": [
    "# This checks for existence of labels, duly records the (non)existence, strips it out, appends to another list\n",
    "# This is done w/o loss to order\n",
    "\n",
    "#line_num_list = []\n",
    "#complete_street_name = []\n",
    "#split_street_name = []\n",
    "#labels = []\n",
    "#for entry in range(0,len(df_locations)):\n",
    "#    #print(df_locations.iloc[entry])\n",
    "#    for dicts in df_locations.iloc[entry][0]:\n",
    "#        if 'labels' in dicts:\n",
    "#            for key, value in dicts.items():\n",
    "#                #line_num_list.append(df_locations.iloc[entry][1])\n",
    "#                if key == 'labels':\n",
    "#                    labels.append(value)\n",
    "#                else:\n",
    "#                    complete_street_name.append(value)\n",
    "#                    street_name_split = str(value).split()\n",
    "#                    split_street_name.append(street_name_split)\n",
    "#                    line_num_list.append(df_locations.iloc[entry][1])\n",
    "#        else:\n",
    "#            for key, value in dicts.items():\n",
    "#                line_num_list.append(df_locations.iloc[entry][1])\n",
    "#                labels.append(\" \")\n",
    "#                complete_street_name.append(value)\n",
    "#                street_name_split = str(value).split()\n",
    "#                split_street_name.append(street_name_split)\n"
   ]
  },
  {
   "cell_type": "markdown",
   "metadata": {},
   "source": [
    "It appears that avenues are spelled out and streets are enumerated."
   ]
  },
  {
   "cell_type": "code",
   "execution_count": null,
   "metadata": {},
   "outputs": [],
   "source": [
    "#split_street_name"
   ]
  },
  {
   "cell_type": "code",
   "execution_count": null,
   "metadata": {},
   "outputs": [],
   "source": [
    "#unlisted_location = pd.concat([pd.Series(complete_street_name), pd.Series(split_street_name), pd.Series(labels), pd.Series(line_num_list)], axis = 1)\n",
    "#unlisted_location.columns = [\"complete_street_name\", \"split_street_name\", \"labels\", \"line_number\"]"
   ]
  },
  {
   "cell_type": "code",
   "execution_count": null,
   "metadata": {},
   "outputs": [],
   "source": [
    "#len(line_num_list)"
   ]
  },
  {
   "cell_type": "code",
   "execution_count": null,
   "metadata": {},
   "outputs": [],
   "source": [
    "#unlisted_location"
   ]
  },
  {
   "cell_type": "code",
   "execution_count": null,
   "metadata": {},
   "outputs": [],
   "source": [
    "# first order of business is to test if string is a street number\n",
    "# if it is not, then it is probably a street name, and a comparison can be made\n",
    "# Perform regex to remove the periods\n",
    "# https://www.datacamp.com/community/tutorials/fuzzy-string-python\n",
    "# https://datascience.stackexchange.com/questions/29775/how-to-check-and-correct-misspelling-in-the-data-of-pairs-of-words\n",
    "# http://blog.keyrus.co.uk/fuzzy_matching_101_part_i.html\n",
    "# http://blog.keyrus.co.uk/fuzzy_matching_101_part_ii.html\n",
    "\n",
    "#for i in range(0, len(unlisted_location)):\n",
    "#    non_numeric_street_name = []\n",
    "#    for address_component in unlisted_location.iloc[i, 1]:\n",
    "#        if address_component.isnumeric() == False:\n",
    "#            non_numeric_street_name.append(address_component)\n",
    "#            print(non_numeric_street_name)\n",
    "#        unlisted_location.iloc[i][\"non_numeric\"] = non_numeric_street_name\n",
    "            \n",
    "#        #print(address_component.isnumeric())\n"
   ]
  },
  {
   "cell_type": "code",
   "execution_count": null,
   "metadata": {},
   "outputs": [],
   "source": [
    "#unlisted_location"
   ]
  }
 ],
 "metadata": {
  "kernelspec": {
   "display_name": "Python 3",
   "language": "python",
   "name": "python3"
  },
  "language_info": {
   "codemirror_mode": {
    "name": "ipython",
    "version": 3
   },
   "file_extension": ".py",
   "mimetype": "text/x-python",
   "name": "python",
   "nbconvert_exporter": "python",
   "pygments_lexer": "ipython3",
   "version": "3.7.6"
  }
 },
 "nbformat": 4,
 "nbformat_minor": 4
}
