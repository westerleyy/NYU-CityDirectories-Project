{
 "cells": [
  {
   "cell_type": "markdown",
   "metadata": {},
   "source": [
    "The purposes of this pre-processing notebook are to trial the creation of sub-directories to facilitate processed image storage, and removal of non-information bearing leading and trailing pages of each directory as given by the original NYPL Space Time City Directories github [page](https://github.com/nypl-spacetime/city-directories/blob/master/DIRECTORIES.md)."
   ]
  },
  {
   "cell_type": "markdown",
   "metadata": {},
   "source": [
    "### Subdirectory Creation"
   ]
  },
  {
   "cell_type": "code",
   "execution_count": 44,
   "metadata": {},
   "outputs": [
    {
     "name": "stdout",
     "output_type": "stream",
     "text": [
      "Current working directory: C:\\Users\\wesch\\OneDrive\\19 20 NYU Library\n",
      "New working directory: C:\\Users\\wesch\\OneDrive\\19 20 NYU Library\\test_directory_files\n"
     ]
    }
   ],
   "source": [
    "import os\n",
    "\n",
    "# path to where all the directories sit\n",
    "path = \"./test_directory_files/\"\n",
    "\n",
    "# return original directory as a check\n",
    "print(\"Current working directory: \" + os.getcwd())\n",
    "\n",
    "# change working directory to path given above\n",
    "os.chdir(path)\n",
    "\n",
    "print(\"New working directory: \" + os.getcwd())\n",
    "\n",
    "# sub-directories required\n",
    "sub_dir_req = [\"bbox-images\", \"cropped-jpegs\", \"final-entries\", \"hocr\", \"manifest\", \"tsv\"]\n",
    "\n",
    "# Create sub-directories\n",
    "for x in os.listdir():\n",
    "    if os.path.isdir(x):\n",
    "        for sub_dir in sub_dir_req:\n",
    "            sub_dir_path = x + \"/\" + sub_dir\n",
    "            os.makedirs(sub_dir_path)"
   ]
  },
  {
   "cell_type": "markdown",
   "metadata": {},
   "source": [
    "### Page removal"
   ]
  },
  {
   "cell_type": "code",
   "execution_count": 42,
   "metadata": {},
   "outputs": [
    {
     "name": "stdout",
     "output_type": "stream",
     "text": [
      "one\n",
      "['two', 'three']\n"
     ]
    }
   ],
   "source": [
    "test_dict = {\"one\": [\"two\", \"three\"]}\n",
    "for key, value1 in test_dict.items():\n",
    "    print(key)\n",
    "    print(value1)"
   ]
  }
 ],
 "metadata": {
  "kernelspec": {
   "display_name": "Python 3",
   "language": "python",
   "name": "python3"
  },
  "language_info": {
   "codemirror_mode": {
    "name": "ipython",
    "version": 3
   },
   "file_extension": ".py",
   "mimetype": "text/x-python",
   "name": "python",
   "nbconvert_exporter": "python",
   "pygments_lexer": "ipython3",
   "version": "3.7.6"
  }
 },
 "nbformat": 4,
 "nbformat_minor": 4
}
