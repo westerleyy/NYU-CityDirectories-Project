{
 "cells": [
  {
   "cell_type": "code",
   "execution_count": 1,
   "metadata": {},
   "outputs": [],
   "source": [
    "const fs = require('fs')"
   ]
  },
  {
   "cell_type": "code",
   "execution_count": 2,
   "metadata": {},
   "outputs": [],
   "source": [
    "const detectColumns = require('hocr-detect-columns')"
   ]
  },
  {
   "cell_type": "code",
   "execution_count": 3,
   "metadata": {},
   "outputs": [],
   "source": [
    "const hocr = fs.readFileSync(\"./test_directory_files/1847.33f67330-5daf-0134-9838-00505686a51c/183.57504747.d4315750-2b8e-0136-1360-47c4533390a8.hocr\", 'utf8')"
   ]
  },
  {
   "cell_type": "code",
   "execution_count": 4,
   "metadata": {},
   "outputs": [],
   "source": [
    "const config = './test_directory_files/default-config.json'"
   ]
  },
  {
   "cell_type": "code",
   "execution_count": 5,
   "metadata": {},
   "outputs": [],
   "source": [
    "const pages = detectColumns(hocr, config)"
   ]
  },
  {
   "cell_type": "code",
   "execution_count": 9,
   "metadata": {},
   "outputs": [
    {
     "data": {
      "text/plain": [
       "[\n",
       "  {\n",
       "    number: 0,\n",
       "    properties: {\n",
       "      image: 'C:\\\\Users\\\\wesch\\\\AppData\\\\Local\\\\Temp\\\\tess_qqgq4fbg.JPEG',\n",
       "      bbox: [Array],\n",
       "      ppageno: 0\n",
       "    },\n",
       "    lines: [\n",
       "      [Object], [Object], [Object], [Object], [Object], [Object],\n",
       "      [Object], [Object], [Object], [Object], [Object], [Object],\n",
       "      [Object], [Object], [Object], [Object], [Object], [Object],\n",
       "      [Object], [Object], [Object], [Object], [Object], [Object],\n",
       "      [Object], [Object], [Object], [Object], [Object], [Object],\n",
       "      [Object], [Object], [Object], [Object], [Object], [Object],\n",
       "      [Object], [Object], [Object], [Object], [Object], [Object],\n",
       "      [Object], [Object], [Object], [Object], [Object], [Object],\n",
       "      [Object], [Object], [Object], [Object], [Object], [Object],\n",
       "      [Object], [Object], [Object], [Object], [Object], [Object],\n",
       "      [Object], [Object], [Object], [Object], [Object], [Object],\n",
       "      [Object], [Object], [Object], [Object], [Object], [Object],\n",
       "      [Object], [Object], [Object], [Object], [Object], [Object],\n",
       "      [Object], [Object], [Object], [Object], [Object], [Object],\n",
       "      [Object], [Object], [Object], [Object], [Object], [Object],\n",
       "      [Object], [Object], [Object], [Object], [Object], [Object],\n",
       "      [Object], [Object], [Object], [Object],\n",
       "      ... 71 more items\n",
       "    ],\n",
       "    columns: [ 255, 1496 ],\n",
       "    linesPerColumn: [ 51, 65 ],\n",
       "    minLinesPerColumn: true\n",
       "  }\n",
       "]"
      ]
     },
     "execution_count": 9,
     "metadata": {},
     "output_type": "execute_result"
    }
   ],
   "source": [
    "pages"
   ]
  },
  {
   "cell_type": "code",
   "execution_count": 6,
   "metadata": {},
   "outputs": [
    {
     "ename": "SyntaxError",
     "evalue": "Unexpected identifier",
     "output_type": "error",
     "traceback": [
      "evalmachine.<anonymous>:1",
      "hocr-detect-columns --mode html \"./test_directory_files/1847.33f67330-5daf-0134-9838-00505686a51c/183.57504747.d4315750-2b8e-0136-1360-47c4533390a8.hocr\"",
      "                      ^^^^",
      "",
      "SyntaxError: Unexpected identifier",
      "    at new Script (vm.js:84:7)",
      "    at createScript (vm.js:258:10)",
      "    at Object.runInThisContext (vm.js:306:10)",
      "    at run ([eval]:1054:15)",
      "    at onRunRequest ([eval]:888:18)",
      "    at onMessage ([eval]:848:13)",
      "    at process.emit (events.js:210:5)",
      "    at emit (internal/child_process.js:876:12)",
      "    at processTicksAndRejections (internal/process/task_queues.js:81:21)"
     ]
    }
   ],
   "source": [
    "hocr-detect-columns --mode html \"./test_directory_files/1847.33f67330-5daf-0134-9838-00505686a51c/183.57504747.d4315750-2b8e-0136-1360-47c4533390a8.hocr\""
   ]
  }
 ],
 "metadata": {
  "kernelspec": {
   "display_name": "Javascript (Node.js)",
   "language": "javascript",
   "name": "javascript"
  },
  "language_info": {
   "file_extension": ".js",
   "mimetype": "application/javascript",
   "name": "javascript",
   "version": "12.12.0"
  }
 },
 "nbformat": 4,
 "nbformat_minor": 2
}
